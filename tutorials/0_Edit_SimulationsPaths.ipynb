{
 "cells": [
  {
   "cell_type": "markdown",
   "id": "b11477f2-0723-4310-8db3-fb398626ac5d",
   "metadata": {},
   "source": [
    "$$\\textrm{Joaquin Peñuela Parra}$$\n",
    "$$\\textrm{University of Los Andes}$$\n",
    "$$\\textrm{High Energy Physics Group: Phenomenology of Particles}$$\n",
    "\n",
    "This code was written to be running in Docker. If you do not have a Docker inside hep-server2 please refer to: https://github.com/Phenomenology-group-uniandes/Tutoriales_Generales\n",
    "\n",
    "$\\textbf{Preliminaries}$ \n",
    "\n",
    "The libraries used here are:"
   ]
  },
  {
   "cell_type": "code",
   "execution_count": 1,
   "id": "d0f52f90-cea5-4fbf-8d97-b5a18a1f7b92",
   "metadata": {},
   "outputs": [],
   "source": [
    "import os\n",
    "import pandas as pd"
   ]
  },
  {
   "cell_type": "markdown",
   "id": "5be20259-d35f-4e12-9f1e-7a15aa620253",
   "metadata": {},
   "source": [
    "The first thing that we have to know about Uniandes_Framework is related to SimulationsPaths.csv file. This file contains the paths of all root files saved on the server. \n",
    "\n",
    "If you want to add a path you just have to follow this tutorial where I add the path to the signal root files used in these tutorials."
   ]
  },
  {
   "cell_type": "markdown",
   "id": "ea31ab15-2e07-44da-aa80-9c16412ef4d0",
   "metadata": {},
   "source": [
    "**1. Read SimulationsPaths.csv:** "
   ]
  },
  {
   "cell_type": "code",
   "execution_count": 2,
   "id": "1f46e6e6-13f4-46a2-96fe-11883373c667",
   "metadata": {},
   "outputs": [],
   "source": [
    "Data = pd.read_csv(f'{os.path.dirname(os.getcwd())}/SimulationsPaths.csv')"
   ]
  },
  {
   "cell_type": "code",
   "execution_count": 3,
   "id": "77e5b205-192f-4e04-b80a-885f28ebe84e",
   "metadata": {},
   "outputs": [
    {
     "data": {
      "text/html": [
       "<div>\n",
       "<style scoped>\n",
       "    .dataframe tbody tr th:only-of-type {\n",
       "        vertical-align: middle;\n",
       "    }\n",
       "\n",
       "    .dataframe tbody tr th {\n",
       "        vertical-align: top;\n",
       "    }\n",
       "\n",
       "    .dataframe thead th {\n",
       "        text-align: right;\n",
       "    }\n",
       "</style>\n",
       "<table border=\"1\" class=\"dataframe\">\n",
       "  <thead>\n",
       "    <tr style=\"text-align: right;\">\n",
       "      <th></th>\n",
       "      <th>name</th>\n",
       "      <th>path</th>\n",
       "      <th>xs(pb)</th>\n",
       "    </tr>\n",
       "  </thead>\n",
       "  <tbody>\n",
       "    <tr>\n",
       "      <th>0</th>\n",
       "      <td>stop</td>\n",
       "      <td>/Madgraph_Simulations/SM_Backgrounds/stop</td>\n",
       "      <td>241.170000</td>\n",
       "    </tr>\n",
       "    <tr>\n",
       "      <th>1</th>\n",
       "      <td>ttbar</td>\n",
       "      <td>/Madgraph_Simulations/SM_Backgrounds/ttbar/</td>\n",
       "      <td>504.696000</td>\n",
       "    </tr>\n",
       "    <tr>\n",
       "      <th>2</th>\n",
       "      <td>z_jets</td>\n",
       "      <td>/Madgraph_Simulations/SM_Backgrounds/z_jets/</td>\n",
       "      <td>43029.270000</td>\n",
       "    </tr>\n",
       "    <tr>\n",
       "      <th>3</th>\n",
       "      <td>w_jets</td>\n",
       "      <td>/Madgraph_Simulations/SM_Backgrounds/w_jets/</td>\n",
       "      <td>146548.300000</td>\n",
       "    </tr>\n",
       "    <tr>\n",
       "      <th>4</th>\n",
       "      <td>ww</td>\n",
       "      <td>/Madgraph_Simulations/SM_Backgrounds/ww/</td>\n",
       "      <td>65.507360</td>\n",
       "    </tr>\n",
       "    <tr>\n",
       "      <th>5</th>\n",
       "      <td>zz</td>\n",
       "      <td>/Madgraph_Simulations/SM_Backgrounds/zz/</td>\n",
       "      <td>9.562416</td>\n",
       "    </tr>\n",
       "    <tr>\n",
       "      <th>6</th>\n",
       "      <td>wz</td>\n",
       "      <td>/Madgraph_Simulations/SM_Backgrounds/wz/</td>\n",
       "      <td>24.691840</td>\n",
       "    </tr>\n",
       "  </tbody>\n",
       "</table>\n",
       "</div>"
      ],
      "text/plain": [
       "     name                                          path         xs(pb)\n",
       "0    stop     /Madgraph_Simulations/SM_Backgrounds/stop     241.170000\n",
       "1   ttbar   /Madgraph_Simulations/SM_Backgrounds/ttbar/     504.696000\n",
       "2  z_jets  /Madgraph_Simulations/SM_Backgrounds/z_jets/   43029.270000\n",
       "3  w_jets  /Madgraph_Simulations/SM_Backgrounds/w_jets/  146548.300000\n",
       "4      ww      /Madgraph_Simulations/SM_Backgrounds/ww/      65.507360\n",
       "5      zz      /Madgraph_Simulations/SM_Backgrounds/zz/       9.562416\n",
       "6      wz      /Madgraph_Simulations/SM_Backgrounds/wz/      24.691840"
      ]
     },
     "execution_count": 3,
     "metadata": {},
     "output_type": "execute_result"
    }
   ],
   "source": [
    "Data"
   ]
  },
  {
   "cell_type": "markdown",
   "id": "be5673f8-990f-435d-a0aa-7a98f214f2d6",
   "metadata": {},
   "source": [
    "**2. Create a directory with the information of the row that you want to add:**"
   ]
  },
  {
   "cell_type": "code",
   "execution_count": 4,
   "id": "aece95d0-023a-4ec8-9c6e-443779c50f9d",
   "metadata": {},
   "outputs": [],
   "source": [
    "directory = {'name': 'Z_Tutorial', 'path':  '/disco4/personal_folders/Joaquin/Uniandes_Framework_Z_Data_Tutorial', 'xs(pb)': 638.5}"
   ]
  },
  {
   "cell_type": "code",
   "execution_count": 5,
   "id": "c15cea8e-8c48-450a-964d-6bb5b88e2cce",
   "metadata": {},
   "outputs": [],
   "source": [
    "row = pd.DataFrame.from_dict(directory, orient = \"index\").T"
   ]
  },
  {
   "cell_type": "code",
   "execution_count": 6,
   "id": "f0d53172-828d-4b94-b857-c38e7f6e71fd",
   "metadata": {},
   "outputs": [
    {
     "data": {
      "text/html": [
       "<div>\n",
       "<style scoped>\n",
       "    .dataframe tbody tr th:only-of-type {\n",
       "        vertical-align: middle;\n",
       "    }\n",
       "\n",
       "    .dataframe tbody tr th {\n",
       "        vertical-align: top;\n",
       "    }\n",
       "\n",
       "    .dataframe thead th {\n",
       "        text-align: right;\n",
       "    }\n",
       "</style>\n",
       "<table border=\"1\" class=\"dataframe\">\n",
       "  <thead>\n",
       "    <tr style=\"text-align: right;\">\n",
       "      <th></th>\n",
       "      <th>name</th>\n",
       "      <th>path</th>\n",
       "      <th>xs(pb)</th>\n",
       "    </tr>\n",
       "  </thead>\n",
       "  <tbody>\n",
       "    <tr>\n",
       "      <th>0</th>\n",
       "      <td>Z_Tutorial</td>\n",
       "      <td>/disco4/personal_folders/Joaquin/Uniandes_Fram...</td>\n",
       "      <td>638.5</td>\n",
       "    </tr>\n",
       "  </tbody>\n",
       "</table>\n",
       "</div>"
      ],
      "text/plain": [
       "         name                                               path xs(pb)\n",
       "0  Z_Tutorial  /disco4/personal_folders/Joaquin/Uniandes_Fram...  638.5"
      ]
     },
     "execution_count": 6,
     "metadata": {},
     "output_type": "execute_result"
    }
   ],
   "source": [
    "row"
   ]
  },
  {
   "cell_type": "markdown",
   "id": "2c220aaa-061b-4ec5-8776-fd36e77ee14e",
   "metadata": {},
   "source": [
    "**3. Concatenate Data and row:**"
   ]
  },
  {
   "cell_type": "code",
   "execution_count": 7,
   "id": "09f882eb-0881-45c3-802a-fbcde465b893",
   "metadata": {},
   "outputs": [],
   "source": [
    "Data = pd.concat([Data,row]) \n",
    "Data.reset_index(drop=True, inplace=True)"
   ]
  },
  {
   "cell_type": "code",
   "execution_count": 8,
   "id": "001413e2-3a2b-49c1-a3f9-6a7d19079f33",
   "metadata": {},
   "outputs": [
    {
     "data": {
      "text/html": [
       "<div>\n",
       "<style scoped>\n",
       "    .dataframe tbody tr th:only-of-type {\n",
       "        vertical-align: middle;\n",
       "    }\n",
       "\n",
       "    .dataframe tbody tr th {\n",
       "        vertical-align: top;\n",
       "    }\n",
       "\n",
       "    .dataframe thead th {\n",
       "        text-align: right;\n",
       "    }\n",
       "</style>\n",
       "<table border=\"1\" class=\"dataframe\">\n",
       "  <thead>\n",
       "    <tr style=\"text-align: right;\">\n",
       "      <th></th>\n",
       "      <th>name</th>\n",
       "      <th>path</th>\n",
       "      <th>xs(pb)</th>\n",
       "    </tr>\n",
       "  </thead>\n",
       "  <tbody>\n",
       "    <tr>\n",
       "      <th>0</th>\n",
       "      <td>stop</td>\n",
       "      <td>/Madgraph_Simulations/SM_Backgrounds/stop</td>\n",
       "      <td>241.17</td>\n",
       "    </tr>\n",
       "    <tr>\n",
       "      <th>1</th>\n",
       "      <td>ttbar</td>\n",
       "      <td>/Madgraph_Simulations/SM_Backgrounds/ttbar/</td>\n",
       "      <td>504.696</td>\n",
       "    </tr>\n",
       "    <tr>\n",
       "      <th>2</th>\n",
       "      <td>z_jets</td>\n",
       "      <td>/Madgraph_Simulations/SM_Backgrounds/z_jets/</td>\n",
       "      <td>43029.27</td>\n",
       "    </tr>\n",
       "    <tr>\n",
       "      <th>3</th>\n",
       "      <td>w_jets</td>\n",
       "      <td>/Madgraph_Simulations/SM_Backgrounds/w_jets/</td>\n",
       "      <td>146548.3</td>\n",
       "    </tr>\n",
       "    <tr>\n",
       "      <th>4</th>\n",
       "      <td>ww</td>\n",
       "      <td>/Madgraph_Simulations/SM_Backgrounds/ww/</td>\n",
       "      <td>65.50736</td>\n",
       "    </tr>\n",
       "    <tr>\n",
       "      <th>5</th>\n",
       "      <td>zz</td>\n",
       "      <td>/Madgraph_Simulations/SM_Backgrounds/zz/</td>\n",
       "      <td>9.562416</td>\n",
       "    </tr>\n",
       "    <tr>\n",
       "      <th>6</th>\n",
       "      <td>wz</td>\n",
       "      <td>/Madgraph_Simulations/SM_Backgrounds/wz/</td>\n",
       "      <td>24.69184</td>\n",
       "    </tr>\n",
       "    <tr>\n",
       "      <th>7</th>\n",
       "      <td>Z_Tutorial</td>\n",
       "      <td>/disco4/personal_folders/Joaquin/Uniandes_Fram...</td>\n",
       "      <td>638.5</td>\n",
       "    </tr>\n",
       "  </tbody>\n",
       "</table>\n",
       "</div>"
      ],
      "text/plain": [
       "         name                                               path    xs(pb)\n",
       "0        stop          /Madgraph_Simulations/SM_Backgrounds/stop    241.17\n",
       "1       ttbar        /Madgraph_Simulations/SM_Backgrounds/ttbar/   504.696\n",
       "2      z_jets       /Madgraph_Simulations/SM_Backgrounds/z_jets/  43029.27\n",
       "3      w_jets       /Madgraph_Simulations/SM_Backgrounds/w_jets/  146548.3\n",
       "4          ww           /Madgraph_Simulations/SM_Backgrounds/ww/  65.50736\n",
       "5          zz           /Madgraph_Simulations/SM_Backgrounds/zz/  9.562416\n",
       "6          wz           /Madgraph_Simulations/SM_Backgrounds/wz/  24.69184\n",
       "7  Z_Tutorial  /disco4/personal_folders/Joaquin/Uniandes_Fram...     638.5"
      ]
     },
     "execution_count": 8,
     "metadata": {},
     "output_type": "execute_result"
    }
   ],
   "source": [
    "Data"
   ]
  },
  {
   "cell_type": "markdown",
   "id": "2a8c9db7-c1ea-40b7-9b6f-0f0552e680a6",
   "metadata": {},
   "source": [
    "**4. Overwrite SimulationsPaths.csv:**"
   ]
  },
  {
   "cell_type": "code",
   "execution_count": 9,
   "id": "5fa9ed5f-2eb1-432d-9ca4-a29a074504e6",
   "metadata": {},
   "outputs": [],
   "source": [
    "Data.to_csv(f'{os.path.dirname(os.getcwd())}/SimulationsPaths.csv', index= False)"
   ]
  }
 ],
 "metadata": {
  "kernelspec": {
   "display_name": "Python 3 (ipykernel)",
   "language": "python",
   "name": "python3"
  },
  "language_info": {
   "codemirror_mode": {
    "name": "ipython",
    "version": 3
   },
   "file_extension": ".py",
   "mimetype": "text/x-python",
   "name": "python",
   "nbconvert_exporter": "python",
   "pygments_lexer": "ipython3",
   "version": "3.9.4"
  }
 },
 "nbformat": 4,
 "nbformat_minor": 5
}
