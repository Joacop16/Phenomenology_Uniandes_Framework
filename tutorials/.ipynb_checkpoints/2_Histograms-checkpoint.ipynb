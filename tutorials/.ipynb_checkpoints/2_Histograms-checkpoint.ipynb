{
 "cells": [
  {
   "cell_type": "markdown",
   "id": "b97c6da2-2fb2-4386-885f-b33e24db65a7",
   "metadata": {},
   "source": [
    "$$\\textrm{Joaquin Peñuela Parra}$$\n",
    "$$\\textrm{University of Los Andes}$$\n",
    "$$\\textrm{High Energy Physics Group: Phenomenology of Particles}$$\n",
    "\n",
    "This code was written to be running in Docker. If you do not have a Docker inside hep-server2 please refer to: https://github.com/Phenomenology-group-uniandes/Tutoriales_Generales\n",
    "\n",
    "$\\textbf{Preliminaries}$ \n",
    "\n",
    "The libraries used here are:"
   ]
  },
  {
   "cell_type": "code",
   "execution_count": 1,
   "id": "23bb53a5-8c28-429d-bfdf-569513f8db90",
   "metadata": {},
   "outputs": [],
   "source": [
    "import os, sys\n",
    "sys.path.append(os.path.dirname(os.getcwd()))"
   ]
  },
  {
   "cell_type": "code",
   "execution_count": 2,
   "id": "58a8c635-4b87-4ece-ab75-5d4f3e899b2f",
   "metadata": {},
   "outputs": [
    {
     "name": "stdout",
     "output_type": "stream",
     "text": [
      "Welcome to JupyROOT 6.22/06\n"
     ]
    }
   ],
   "source": [
    "from delphes_reader import root_analysis #It contains some useful functions like make_histograms or get_kinematics_row.\n",
    "\n",
    "from ROOT import TCanvas #It is necessary to show plots with ROOT.\n",
    "from ROOT import TH1F #It is necessary to plot histograms with ROOT.\n",
    "from ROOT import THStack #It is necessary to plot many histograms at the same time with ROOT.\n",
    "from ROOT import TLegend #It is necessary to plot labels when you plot many histograms at the same time with ROOT.\n",
    "\n",
    "import pandas as pd #Python library is useful for data science."
   ]
  },
  {
   "cell_type": "markdown",
   "id": "b671b745-3a7c-4f85-b245-b2d1ef2fbf0f",
   "metadata": {},
   "source": [
    "Until now, we created .csv files. Now we will use it to plot histograms.\n",
    "\n",
    "**1. Read .csv files:**\n",
    "\n",
    "To do this, we can use pandas:"
   ]
  },
  {
   "cell_type": "code",
   "execution_count": 3,
   "id": "29ddcefd-0a1b-4eb4-a651-a6f740708dba",
   "metadata": {},
   "outputs": [],
   "source": [
    "Datasets = {'z': pd.read_csv('Data_z.csv'),\n",
    "            'stop': pd.read_csv('Data_stop.csv'),\n",
    "            'ttbar': pd.read_csv('Data_ttbar.csv'),\n",
    "            'ww': pd.read_csv('Data_ww.csv')}"
   ]
  },
  {
   "cell_type": "markdown",
   "id": "f079593a-ef37-44ef-9ac1-64444fedf309",
   "metadata": {},
   "source": [
    "So,"
   ]
  },
  {
   "cell_type": "code",
   "execution_count": 4,
   "id": "be06e682-956e-406d-a170-062b96427221",
   "metadata": {},
   "outputs": [
    {
     "data": {
      "text/html": [
       "<div>\n",
       "<style scoped>\n",
       "    .dataframe tbody tr th:only-of-type {\n",
       "        vertical-align: middle;\n",
       "    }\n",
       "\n",
       "    .dataframe tbody tr th {\n",
       "        vertical-align: top;\n",
       "    }\n",
       "\n",
       "    .dataframe thead th {\n",
       "        text-align: right;\n",
       "    }\n",
       "</style>\n",
       "<table border=\"1\" class=\"dataframe\">\n",
       "  <thead>\n",
       "    <tr style=\"text-align: right;\">\n",
       "      <th></th>\n",
       "      <th>pT_{Z}(GeV)</th>\n",
       "      <th>#eta_{Z}</th>\n",
       "      <th>#phi_{Z}</th>\n",
       "      <th>Energy_{Z}(GeV)</th>\n",
       "      <th>Mass_{Z}(GeV)</th>\n",
       "    </tr>\n",
       "  </thead>\n",
       "  <tbody>\n",
       "    <tr>\n",
       "      <th>0</th>\n",
       "      <td>45.543166</td>\n",
       "      <td>0.735161</td>\n",
       "      <td>1.892232</td>\n",
       "      <td>82.497517</td>\n",
       "      <td>58.254290</td>\n",
       "    </tr>\n",
       "    <tr>\n",
       "      <th>1</th>\n",
       "      <td>35.550365</td>\n",
       "      <td>1.996663</td>\n",
       "      <td>1.769846</td>\n",
       "      <td>206.594030</td>\n",
       "      <td>157.820829</td>\n",
       "    </tr>\n",
       "    <tr>\n",
       "      <th>2</th>\n",
       "      <td>84.196153</td>\n",
       "      <td>0.313676</td>\n",
       "      <td>-2.886560</td>\n",
       "      <td>120.883981</td>\n",
       "      <td>82.481878</td>\n",
       "    </tr>\n",
       "    <tr>\n",
       "      <th>3</th>\n",
       "      <td>86.960182</td>\n",
       "      <td>-1.412185</td>\n",
       "      <td>1.208230</td>\n",
       "      <td>326.145743</td>\n",
       "      <td>265.747893</td>\n",
       "    </tr>\n",
       "    <tr>\n",
       "      <th>4</th>\n",
       "      <td>91.563436</td>\n",
       "      <td>-0.412365</td>\n",
       "      <td>0.019620</td>\n",
       "      <td>118.831570</td>\n",
       "      <td>65.029120</td>\n",
       "    </tr>\n",
       "    <tr>\n",
       "      <th>...</th>\n",
       "      <td>...</td>\n",
       "      <td>...</td>\n",
       "      <td>...</td>\n",
       "      <td>...</td>\n",
       "      <td>...</td>\n",
       "    </tr>\n",
       "    <tr>\n",
       "      <th>105</th>\n",
       "      <td>21.610681</td>\n",
       "      <td>-0.454527</td>\n",
       "      <td>1.769293</td>\n",
       "      <td>54.326556</td>\n",
       "      <td>48.795891</td>\n",
       "    </tr>\n",
       "    <tr>\n",
       "      <th>106</th>\n",
       "      <td>12.571026</td>\n",
       "      <td>-2.995276</td>\n",
       "      <td>-2.941065</td>\n",
       "      <td>156.371798</td>\n",
       "      <td>92.651876</td>\n",
       "    </tr>\n",
       "    <tr>\n",
       "      <th>107</th>\n",
       "      <td>29.884160</td>\n",
       "      <td>-0.396376</td>\n",
       "      <td>-1.633173</td>\n",
       "      <td>155.670568</td>\n",
       "      <td>152.290663</td>\n",
       "    </tr>\n",
       "    <tr>\n",
       "      <th>108</th>\n",
       "      <td>103.799067</td>\n",
       "      <td>-0.111048</td>\n",
       "      <td>0.628315</td>\n",
       "      <td>184.619288</td>\n",
       "      <td>152.238708</td>\n",
       "    </tr>\n",
       "    <tr>\n",
       "      <th>109</th>\n",
       "      <td>66.093329</td>\n",
       "      <td>-0.580608</td>\n",
       "      <td>-3.098389</td>\n",
       "      <td>164.779848</td>\n",
       "      <td>145.390481</td>\n",
       "    </tr>\n",
       "  </tbody>\n",
       "</table>\n",
       "<p>110 rows × 5 columns</p>\n",
       "</div>"
      ],
      "text/plain": [
       "     pT_{Z}(GeV)  #eta_{Z}  #phi_{Z}  Energy_{Z}(GeV)  Mass_{Z}(GeV)\n",
       "0      45.543166  0.735161  1.892232        82.497517      58.254290\n",
       "1      35.550365  1.996663  1.769846       206.594030     157.820829\n",
       "2      84.196153  0.313676 -2.886560       120.883981      82.481878\n",
       "3      86.960182 -1.412185  1.208230       326.145743     265.747893\n",
       "4      91.563436 -0.412365  0.019620       118.831570      65.029120\n",
       "..           ...       ...       ...              ...            ...\n",
       "105    21.610681 -0.454527  1.769293        54.326556      48.795891\n",
       "106    12.571026 -2.995276 -2.941065       156.371798      92.651876\n",
       "107    29.884160 -0.396376 -1.633173       155.670568     152.290663\n",
       "108   103.799067 -0.111048  0.628315       184.619288     152.238708\n",
       "109    66.093329 -0.580608 -3.098389       164.779848     145.390481\n",
       "\n",
       "[110 rows x 5 columns]"
      ]
     },
     "execution_count": 4,
     "metadata": {},
     "output_type": "execute_result"
    }
   ],
   "source": [
    "Datasets['stop']"
   ]
  },
  {
   "cell_type": "markdown",
   "id": "9e0ad3b0-cdca-437e-822a-16d1f2fbb2dd",
   "metadata": {},
   "source": [
    "**2. Plot histograms with matplotlib using Uniandes_Framework:**\n",
    "\n",
    "In python, it is very common to think in Matplotlib when you want to plot something. We create a function to plot whatever Dataset column using Matplotlib:"
   ]
  },
  {
   "cell_type": "code",
   "execution_count": 5,
   "id": "54392b9c-13e2-4ec2-8a80-736af62ab28d",
   "metadata": {},
   "outputs": [
    {
     "data": {
      "image/png": "[encoded data removed]",
      "text/plain": [
       "<Figure size 600x400 with 1 Axes>"
      ]
     },
     "metadata": {},
     "output_type": "display_data"
    }
   ],
   "source": [
    "root_analysis.histos_matplotlib(Datasets['stop'], 'Mass_{Z}(GeV)') #This function also has other parameters to select nbins, color, log10 scale, or save the plot in a file."
   ]
  },
  {
   "cell_type": "markdown",
   "id": "3b11bfeb-53d2-4fcc-a90a-43c0382ef357",
   "metadata": {},
   "source": [
    "However, in High Energy Physics people usually tend to use ROOT. By this, we made a more complex function to create all the histograms contained in a DataFrame using ROOT."
   ]
  },
  {
   "cell_type": "markdown",
   "id": "7bb206d7-69d6-4def-b017-cbdd2143e02c",
   "metadata": {},
   "source": [
    "**3. Create histograms:**\n",
    "\n",
    "We can use the function **root_analysis.makehistograms()**. If we want to generate all the histograms for each column on Datasets['stop'], it is enough to run the following code:"
   ]
  },
  {
   "cell_type": "code",
   "execution_count": 6,
   "id": "55cf8450-c8e5-4264-9218-1b3df402572f",
   "metadata": {},
   "outputs": [
    {
     "data": {
      "text/plain": [
       "{'pT_{Z}(GeV)': <cppyy.gbl.TH1F object at 0x55a1e0732cb0>,\n",
       " '#eta_{Z}': <cppyy.gbl.TH1F object at 0x55a1e04edc40>,\n",
       " '#phi_{Z}': <cppyy.gbl.TH1F object at 0x55a1de11e1b0>,\n",
       " 'Energy_{Z}(GeV)': <cppyy.gbl.TH1F object at 0x55a1dfe5f950>,\n",
       " 'Mass_{Z}(GeV)': <cppyy.gbl.TH1F object at 0x55a1e0751a60>}"
      ]
     },
     "execution_count": 6,
     "metadata": {},
     "output_type": "execute_result"
    }
   ],
   "source": [
    "root_analysis.make_histograms(Datasets['stop'])"
   ]
  },
  {
   "cell_type": "markdown",
   "id": "6d2095e0-463e-4971-95e7-ee3cd0b9b16d",
   "metadata": {},
   "source": [
    "This function returns a directory with TH1F objects (ROOT histograms).\n",
    "\n",
    "We can do this with all Datasets and save all dictionaries inside a bigger dictionary:"
   ]
  },
  {
   "cell_type": "code",
   "execution_count": 7,
   "id": "b1647762-cd23-4b73-a41d-ed2608b6e820",
   "metadata": {},
   "outputs": [],
   "source": [
    "Histos_Dictionary = {'z': root_analysis.make_histograms(Datasets['z']),\n",
    "                    'stop': root_analysis.make_histograms(Datasets['stop']),\n",
    "                    'ttbar': root_analysis.make_histograms(Datasets['ttbar']),\n",
    "                    'ww': root_analysis.make_histograms(Datasets['ww'])}"
   ]
  },
  {
   "cell_type": "code",
   "execution_count": 8,
   "id": "9690b673-28a6-414e-b80d-ab906ee6a8b1",
   "metadata": {},
   "outputs": [
    {
     "data": {
      "text/plain": [
       "{'z': {'pT_{Z}(GeV)': <cppyy.gbl.TH1F object at 0x55a1e07587a0>,\n",
       "  '#eta_{Z}': <cppyy.gbl.TH1F object at 0x55a1e0733a40>,\n",
       "  '#phi_{Z}': <cppyy.gbl.TH1F object at 0x55a1e074f060>,\n",
       "  'Energy_{Z}(GeV)': <cppyy.gbl.TH1F object at 0x55a1e07403d0>,\n",
       "  'Mass_{Z}(GeV)': <cppyy.gbl.TH1F object at 0x55a1e072b840>},\n",
       " 'stop': {'pT_{Z}(GeV)': <cppyy.gbl.TH1F object at 0x55a1e073e290>,\n",
       "  '#eta_{Z}': <cppyy.gbl.TH1F object at 0x55a1e07184e0>,\n",
       "  '#phi_{Z}': <cppyy.gbl.TH1F object at 0x55a1e0718bb0>,\n",
       "  'Energy_{Z}(GeV)': <cppyy.gbl.TH1F object at 0x55a1e0772540>,\n",
       "  'Mass_{Z}(GeV)': <cppyy.gbl.TH1F object at 0x55a1e0730740>},\n",
       " 'ttbar': {'pT_{Z}(GeV)': <cppyy.gbl.TH1F object at 0x55a1e0730fd0>,\n",
       "  '#eta_{Z}': <cppyy.gbl.TH1F object at 0x55a1e0748660>,\n",
       "  '#phi_{Z}': <cppyy.gbl.TH1F object at 0x55a1e075e590>,\n",
       "  'Energy_{Z}(GeV)': <cppyy.gbl.TH1F object at 0x55a1e075ee50>,\n",
       "  'Mass_{Z}(GeV)': <cppyy.gbl.TH1F object at 0x55a1de12a770>},\n",
       " 'ww': {'pT_{Z}(GeV)': <cppyy.gbl.TH1F object at 0x55a1de12b070>,\n",
       "  '#eta_{Z}': <cppyy.gbl.TH1F object at 0x55a1de12ba20>,\n",
       "  '#phi_{Z}': <cppyy.gbl.TH1F object at 0x55a1e0752850>,\n",
       "  'Energy_{Z}(GeV)': <cppyy.gbl.TH1F object at 0x55a1e0753110>,\n",
       "  'Mass_{Z}(GeV)': <cppyy.gbl.TH1F object at 0x55a1e0773480>}}"
      ]
     },
     "execution_count": 8,
     "metadata": {},
     "output_type": "execute_result"
    }
   ],
   "source": [
    "Histos_Dictionary"
   ]
  },
  {
   "cell_type": "markdown",
   "id": "8434f22f-bdff-49d9-b0ce-6a8dee480b68",
   "metadata": {},
   "source": [
    "Now, if we want to plot one of them. We can use TCanvas:"
   ]
  },
  {
   "cell_type": "code",
   "execution_count": 9,
   "id": "694b16ad-21a4-4c67-9359-8d761dccd3ba",
   "metadata": {},
   "outputs": [
    {
     "data": {
      "image/png": "[encoded data removed]",
      "text/plain": [
       "<IPython.core.display.Image object>"
      ]
     },
     "metadata": {},
     "output_type": "display_data"
    }
   ],
   "source": [
    "canvas = TCanvas(\"Canvas\", \" \", 600, 400)\n",
    "Histos_Dictionary['z']['Mass_{Z}(GeV)'].Draw('hist')\n",
    "canvas.Draw()"
   ]
  },
  {
   "cell_type": "markdown",
   "id": "5a542ab3-98c9-4613-b3f4-13a2eb52e706",
   "metadata": {},
   "source": [
    "**4. Overlap or Stack histograms:**\n",
    "\n",
    "We can use the function **root_analysis.overlap_histos()**. This function has two main parameters: kinematic_variable and Dict_Histos, they are a string with the name of the kinematic variable and the directory with all the histograms (it should be a directory with the same structure that we use in this tutorial) respectively."
   ]
  },
  {
   "cell_type": "code",
   "execution_count": 10,
   "id": "4634a2c8-d89e-491c-8d52-06800ddaea5c",
   "metadata": {},
   "outputs": [
    {
     "data": {
      "image/png": "[encoded data removed]",
      "text/plain": [
       "<IPython.core.display.Image object>"
      ]
     },
     "metadata": {},
     "output_type": "display_data"
    }
   ],
   "source": [
    "Histos, Canva, Legend = root_analysis.overlap_histos(kinematic_variable= 'Mass_{Z}(GeV)', \n",
    "                                                     Dict_Histos= Histos_Dictionary)"
   ]
  },
  {
   "cell_type": "code",
   "execution_count": 11,
   "id": "4565bc0a-961b-480c-aeea-cc69d67c3fba",
   "metadata": {},
   "outputs": [
    {
     "data": {
      "image/png": "[encoded data removed]",
      "text/plain": [
       "<IPython.core.display.Image object>"
      ]
     },
     "metadata": {},
     "output_type": "display_data"
    }
   ],
   "source": [
    "Histos, Canva, Legend = root_analysis.overlap_histos(kinematic_variable= '#phi_{Z}', \n",
    "                                                     Dict_Histos= Histos_Dictionary)"
   ]
  },
  {
   "cell_type": "markdown",
   "id": "1bb5728e-7781-4a62-980c-fcce3f55bb55",
   "metadata": {},
   "source": [
    "If we want to Stack we have to add Stack = True as other parameter inside the function:"
   ]
  },
  {
   "cell_type": "code",
   "execution_count": 12,
   "id": "03124a66-405b-4f7e-a828-6090db872bdc",
   "metadata": {},
   "outputs": [
    {
     "data": {
      "image/png": "[encoded data removed]",
      "text/plain": [
       "<IPython.core.display.Image object>"
      ]
     },
     "metadata": {},
     "output_type": "display_data"
    }
   ],
   "source": [
    "Histos, Canva, Legend = root_analysis.overlap_histos(kinematic_variable= '#phi_{Z}', \n",
    "                                                     Dict_Histos= Histos_Dictionary,\n",
    "                                                     Stack= True)"
   ]
  },
  {
   "cell_type": "markdown",
   "id": "c3fc88ec-5c85-4b97-8e89-30993628f453",
   "metadata": {},
   "source": [
    "Of course, before doing that we have to care about the normalization of each histogram. \n",
    "\n",
    "**This code is written to stack histograms that are normalized about the number of physical events.**"
   ]
  },
  {
   "cell_type": "markdown",
   "id": "ac805f3c-54cf-45b0-b159-3f83750d166e",
   "metadata": {},
   "source": [
    "**5. Sum histograms:**\n",
    "\n",
    "We can use the function **root_analysis.sum_histos()** and put as a parameter a list with the histograms that we want to sum."
   ]
  },
  {
   "cell_type": "code",
   "execution_count": 13,
   "id": "ef5fef28-3c60-4322-b4a8-a9c14efb7aaf",
   "metadata": {},
   "outputs": [],
   "source": [
    "Histos_for_sum = [Histos_Dictionary['z']['#phi_{Z}'], Histos_Dictionary['ww']['#phi_{Z}'], Histos_Dictionary['ttbar']['#phi_{Z}']]"
   ]
  },
  {
   "cell_type": "code",
   "execution_count": 14,
   "id": "638c5b8f-0e70-4dca-8940-d5ad73a10244",
   "metadata": {},
   "outputs": [],
   "source": [
    "Histo = root_analysis.sum_histos(Histos_for_sum)"
   ]
  },
  {
   "cell_type": "code",
   "execution_count": 15,
   "id": "e757dc8d-68ee-48e3-a28b-927b6953ae4d",
   "metadata": {},
   "outputs": [
    {
     "data": {
      "image/png": "[encoded data removed]",
      "text/plain": [
       "<IPython.core.display.Image object>"
      ]
     },
     "metadata": {},
     "output_type": "display_data"
    }
   ],
   "source": [
    "canvas = TCanvas(\"sum_histos\", \" \", 600, 400)\n",
    "Histo.Draw('hist')\n",
    "canvas.Draw()"
   ]
  },
  {
   "cell_type": "markdown",
   "id": "e928ca4d-0c64-4b6a-a18c-665898e9e92d",
   "metadata": {},
   "source": [
    "Again, before do that we have to care about normalization of each histograms. \n",
    "\n",
    "**This code is written to sum histograms that are normalized about the number of physical events.**\n",
    "\n",
    "Conclusion: **Working with the correct normalization is the user responsibility.**"
   ]
  },
  {
   "cell_type": "markdown",
   "id": "1e02aea6-936e-4050-b9bd-126a68fe86f3",
   "metadata": {},
   "source": [
    "**6. Save histograms in a .root file**\n",
    "\n",
    "We still do not have a function to save histograms in a .root file. Nevertheless, please refer to: https://github.com/Phenomenology-group-uniandes/Tutoriales_Generales/blob/main/5_Uproot_guardado_y_lectura_en_archivos_root.ipynb\n",
    "\n",
    "In this reference, it is explained how to save histograms easily using Uproot."
   ]
  }
 ],
 "metadata": {
  "kernelspec": {
   "display_name": "Python 3 (ipykernel)",
   "language": "python",
   "name": "python3"
  },
  "language_info": {
   "codemirror_mode": {
    "name": "ipython",
    "version": 3
   },
   "file_extension": ".py",
   "mimetype": "text/x-python",
   "name": "python",
   "nbconvert_exporter": "python",
   "pygments_lexer": "ipython3",
   "version": "3.10.6"
  }
 },
 "nbformat": 4,
 "nbformat_minor": 5
}
