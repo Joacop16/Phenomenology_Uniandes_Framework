{
 "cells": [
  {
   "cell_type": "markdown",
   "id": "b97c6da2-2fb2-4386-885f-b33e24db65a7",
   "metadata": {},
   "source": [
    "$$\\textrm{Joaquin Peñuela Parra}$$\n",
    "$$\\textrm{University of Los Andes}$$\n",
    "$$\\textrm{High Energy Physics Group: Phenomenology of Particles}$$\n",
    "\n",
    "This code was written to be running in Docker. If you do not have a Docker inside hep-server2 please refer to: https://github.com/Phenomenology-group-uniandes/Tutoriales_Generales\n",
    "\n",
    "$\\textbf{Preliminaries}$ \n",
    "\n",
    "The libraries used here are:"
   ]
  },
  {
   "cell_type": "code",
   "execution_count": 1,
   "id": "23bb53a5-8c28-429d-bfdf-569513f8db90",
   "metadata": {},
   "outputs": [],
   "source": [
    "import os, sys\n",
    "sys.path.append(os.path.dirname(os.path.dirname(os.getcwd())))"
   ]
  },
  {
   "cell_type": "code",
   "execution_count": 2,
   "id": "58a8c635-4b87-4ece-ab75-5d4f3e899b2f",
   "metadata": {},
   "outputs": [
    {
     "name": "stdout",
     "output_type": "stream",
     "text": [
      "Welcome to JupyROOT 6.22/06\n"
     ]
    }
   ],
   "source": [
    "from Uniandes_Framework.delphes_reader import root_analysis #It contains some useful functions like make_histograms or get_kinematics_row.\n",
    "\n",
    "from ROOT import TCanvas #It is necessary to show plots with ROOT.\n",
    "from ROOT import TH1F #It is necessary to plot histograms with ROOT.\n",
    "from ROOT import THStack #It is necessary to plot many histograms at the same time with ROOT.\n",
    "from ROOT import TLegend #It is necessary to plot labels when you plot many histograms at the same time with ROOT.\n",
    "\n",
    "import pandas as pd #Python library is useful for data science."
   ]
  },
  {
   "cell_type": "markdown",
   "id": "b671b745-3a7c-4f85-b245-b2d1ef2fbf0f",
   "metadata": {},
   "source": [
    "Until now, we created .csv files. Now we will use it to plot histograms.\n",
    "\n",
    "**1. Read .csv files:**\n",
    "\n",
    "To do this, we can use pandas:"
   ]
  },
  {
   "cell_type": "code",
   "execution_count": 3,
   "id": "29ddcefd-0a1b-4eb4-a651-a6f740708dba",
   "metadata": {},
   "outputs": [],
   "source": [
    "Datasets = {'z': pd.read_csv('Data_z.csv'),\n",
    "            'stop': pd.read_csv('Data_stop.csv'),\n",
    "            'ttbar': pd.read_csv('Data_ttbar.csv'),\n",
    "            'ww': pd.read_csv('Data_ww.csv')}"
   ]
  },
  {
   "cell_type": "markdown",
   "id": "f079593a-ef37-44ef-9ac1-64444fedf309",
   "metadata": {},
   "source": [
    "So,"
   ]
  },
  {
   "cell_type": "code",
   "execution_count": 4,
   "id": "be06e682-956e-406d-a170-062b96427221",
   "metadata": {},
   "outputs": [
    {
     "data": {
      "text/html": [
       "<div>\n",
       "<style scoped>\n",
       "    .dataframe tbody tr th:only-of-type {\n",
       "        vertical-align: middle;\n",
       "    }\n",
       "\n",
       "    .dataframe tbody tr th {\n",
       "        vertical-align: top;\n",
       "    }\n",
       "\n",
       "    .dataframe thead th {\n",
       "        text-align: right;\n",
       "    }\n",
       "</style>\n",
       "<table border=\"1\" class=\"dataframe\">\n",
       "  <thead>\n",
       "    <tr style=\"text-align: right;\">\n",
       "      <th></th>\n",
       "      <th>pT_{Z}(GeV)</th>\n",
       "      <th>#eta_{Z}</th>\n",
       "      <th>#phi_{Z}</th>\n",
       "      <th>Energy_{Z}(GeV)</th>\n",
       "      <th>Mass_{Z}(GeV)</th>\n",
       "      <th>pT_{#mu_{1}}(GeV)</th>\n",
       "      <th>#eta_{#mu_{1}}</th>\n",
       "      <th>#phi_{#mu_{1}}</th>\n",
       "      <th>Energy_{#mu_{1}}(GeV)</th>\n",
       "      <th>Mass_{#mu_{1}}(GeV))</th>\n",
       "      <th>...</th>\n",
       "      <th>#Delta{#eta}_{#mu_{1}#mu_{2}}</th>\n",
       "      <th>#Delta{#phi}_{#mu_{1}#mu_{2}}</th>\n",
       "      <th>#Delta{pT}_{#mu_{1}#mu_{2}}(GeV)</th>\n",
       "      <th>#Delta{#vec{pT}}_{#mu_{1}#mu_{2}}(GeV)</th>\n",
       "      <th>#Delta{#vec{p}}_{#mu_{1}#mu_{2}}(GeV)</th>\n",
       "      <th>pT_{#mu_{2}}(GeV)</th>\n",
       "      <th>#eta_{#mu_{2}}</th>\n",
       "      <th>#phi_{#mu_{2}}</th>\n",
       "      <th>Energy_{#mu_{2}}(GeV)</th>\n",
       "      <th>Mass_{#mu_{2}}(GeV))</th>\n",
       "    </tr>\n",
       "  </thead>\n",
       "  <tbody>\n",
       "    <tr>\n",
       "      <th>0</th>\n",
       "      <td>45.543166</td>\n",
       "      <td>0.735161</td>\n",
       "      <td>1.892232</td>\n",
       "      <td>82.497517</td>\n",
       "      <td>58.254290</td>\n",
       "      <td>39.726429</td>\n",
       "      <td>0.120564</td>\n",
       "      <td>1.231759</td>\n",
       "      <td>40.015644</td>\n",
       "      <td>0.105658</td>\n",
       "      <td>...</td>\n",
       "      <td>-0.847968</td>\n",
       "      <td>-1.704597</td>\n",
       "      <td>11.534151</td>\n",
       "      <td>51.689529</td>\n",
       "      <td>58.306089</td>\n",
       "      <td>28.192278</td>\n",
       "      <td>0.968532</td>\n",
       "      <td>2.936356</td>\n",
       "      <td>42.481872</td>\n",
       "      <td>0.105658</td>\n",
       "    </tr>\n",
       "    <tr>\n",
       "      <th>1</th>\n",
       "      <td>35.550365</td>\n",
       "      <td>1.996663</td>\n",
       "      <td>1.769846</td>\n",
       "      <td>206.594030</td>\n",
       "      <td>157.820829</td>\n",
       "      <td>88.437050</td>\n",
       "      <td>0.656892</td>\n",
       "      <td>0.843829</td>\n",
       "      <td>108.213746</td>\n",
       "      <td>0.105658</td>\n",
       "      <td>...</td>\n",
       "      <td>-0.157797</td>\n",
       "      <td>-2.740884</td>\n",
       "      <td>15.596497</td>\n",
       "      <td>158.081901</td>\n",
       "      <td>158.126742</td>\n",
       "      <td>72.840553</td>\n",
       "      <td>0.814688</td>\n",
       "      <td>-2.698472</td>\n",
       "      <td>98.380283</td>\n",
       "      <td>0.105658</td>\n",
       "    </tr>\n",
       "    <tr>\n",
       "      <th>2</th>\n",
       "      <td>84.196153</td>\n",
       "      <td>0.313676</td>\n",
       "      <td>-2.886560</td>\n",
       "      <td>120.883981</td>\n",
       "      <td>82.481878</td>\n",
       "      <td>58.545189</td>\n",
       "      <td>0.090600</td>\n",
       "      <td>2.633425</td>\n",
       "      <td>58.785726</td>\n",
       "      <td>0.105658</td>\n",
       "      <td>...</td>\n",
       "      <td>-0.271174</td>\n",
       "      <td>-1.531344</td>\n",
       "      <td>0.300335</td>\n",
       "      <td>80.938323</td>\n",
       "      <td>82.548098</td>\n",
       "      <td>58.244854</td>\n",
       "      <td>0.361774</td>\n",
       "      <td>-2.118416</td>\n",
       "      <td>62.098255</td>\n",
       "      <td>0.105658</td>\n",
       "    </tr>\n",
       "    <tr>\n",
       "      <th>3</th>\n",
       "      <td>86.960182</td>\n",
       "      <td>-1.412185</td>\n",
       "      <td>1.208230</td>\n",
       "      <td>326.145743</td>\n",
       "      <td>265.747893</td>\n",
       "      <td>84.193352</td>\n",
       "      <td>0.571635</td>\n",
       "      <td>0.444047</td>\n",
       "      <td>98.327859</td>\n",
       "      <td>0.105658</td>\n",
       "      <td>...</td>\n",
       "      <td>2.516252</td>\n",
       "      <td>-1.912680</td>\n",
       "      <td>20.325119</td>\n",
       "      <td>121.545342</td>\n",
       "      <td>295.617261</td>\n",
       "      <td>63.868233</td>\n",
       "      <td>-1.944617</td>\n",
       "      <td>2.356727</td>\n",
       "      <td>227.817884</td>\n",
       "      <td>0.105658</td>\n",
       "    </tr>\n",
       "    <tr>\n",
       "      <th>4</th>\n",
       "      <td>91.563436</td>\n",
       "      <td>-0.412365</td>\n",
       "      <td>0.019620</td>\n",
       "      <td>118.831570</td>\n",
       "      <td>65.029120</td>\n",
       "      <td>94.202202</td>\n",
       "      <td>-0.385520</td>\n",
       "      <td>-0.166564</td>\n",
       "      <td>101.289823</td>\n",
       "      <td>0.105658</td>\n",
       "      <td>...</td>\n",
       "      <td>-0.293271</td>\n",
       "      <td>-1.814878</td>\n",
       "      <td>76.735147</td>\n",
       "      <td>99.872132</td>\n",
       "      <td>106.030572</td>\n",
       "      <td>17.467054</td>\n",
       "      <td>-0.092249</td>\n",
       "      <td>1.648314</td>\n",
       "      <td>17.541746</td>\n",
       "      <td>0.105658</td>\n",
       "    </tr>\n",
       "    <tr>\n",
       "      <th>...</th>\n",
       "      <td>...</td>\n",
       "      <td>...</td>\n",
       "      <td>...</td>\n",
       "      <td>...</td>\n",
       "      <td>...</td>\n",
       "      <td>...</td>\n",
       "      <td>...</td>\n",
       "      <td>...</td>\n",
       "      <td>...</td>\n",
       "      <td>...</td>\n",
       "      <td>...</td>\n",
       "      <td>...</td>\n",
       "      <td>...</td>\n",
       "      <td>...</td>\n",
       "      <td>...</td>\n",
       "      <td>...</td>\n",
       "      <td>...</td>\n",
       "      <td>...</td>\n",
       "      <td>...</td>\n",
       "      <td>...</td>\n",
       "      <td>...</td>\n",
       "    </tr>\n",
       "    <tr>\n",
       "      <th>105</th>\n",
       "      <td>21.610681</td>\n",
       "      <td>-0.454527</td>\n",
       "      <td>1.769293</td>\n",
       "      <td>54.326556</td>\n",
       "      <td>48.795891</td>\n",
       "      <td>22.531841</td>\n",
       "      <td>-1.001603</td>\n",
       "      <td>2.253584</td>\n",
       "      <td>34.811097</td>\n",
       "      <td>0.105658</td>\n",
       "      <td>...</td>\n",
       "      <td>-2.218978</td>\n",
       "      <td>1.897230</td>\n",
       "      <td>11.909359</td>\n",
       "      <td>27.821224</td>\n",
       "      <td>51.136590</td>\n",
       "      <td>10.622482</td>\n",
       "      <td>1.217375</td>\n",
       "      <td>0.356354</td>\n",
       "      <td>19.515459</td>\n",
       "      <td>0.105658</td>\n",
       "    </tr>\n",
       "    <tr>\n",
       "      <th>106</th>\n",
       "      <td>12.571026</td>\n",
       "      <td>-2.995276</td>\n",
       "      <td>-2.941065</td>\n",
       "      <td>156.371798</td>\n",
       "      <td>92.651876</td>\n",
       "      <td>30.682158</td>\n",
       "      <td>-2.115768</td>\n",
       "      <td>-1.850946</td>\n",
       "      <td>129.118215</td>\n",
       "      <td>0.105658</td>\n",
       "      <td>...</td>\n",
       "      <td>-2.118749</td>\n",
       "      <td>2.720238</td>\n",
       "      <td>3.428900</td>\n",
       "      <td>56.658971</td>\n",
       "      <td>137.697961</td>\n",
       "      <td>27.253258</td>\n",
       "      <td>0.002981</td>\n",
       "      <td>1.712001</td>\n",
       "      <td>27.253584</td>\n",
       "      <td>0.105658</td>\n",
       "    </tr>\n",
       "    <tr>\n",
       "      <th>107</th>\n",
       "      <td>29.884160</td>\n",
       "      <td>-0.396376</td>\n",
       "      <td>-1.633173</td>\n",
       "      <td>155.670568</td>\n",
       "      <td>152.290663</td>\n",
       "      <td>35.186256</td>\n",
       "      <td>-1.553373</td>\n",
       "      <td>-1.222875</td>\n",
       "      <td>86.891114</td>\n",
       "      <td>0.105658</td>\n",
       "      <td>...</td>\n",
       "      <td>-3.810776</td>\n",
       "      <td>2.149189</td>\n",
       "      <td>20.950441</td>\n",
       "      <td>44.591469</td>\n",
       "      <td>153.363730</td>\n",
       "      <td>14.235815</td>\n",
       "      <td>2.257404</td>\n",
       "      <td>2.911121</td>\n",
       "      <td>68.779454</td>\n",
       "      <td>0.105658</td>\n",
       "    </tr>\n",
       "    <tr>\n",
       "      <th>108</th>\n",
       "      <td>103.799067</td>\n",
       "      <td>-0.111048</td>\n",
       "      <td>0.628315</td>\n",
       "      <td>184.619288</td>\n",
       "      <td>152.238708</td>\n",
       "      <td>127.766342</td>\n",
       "      <td>0.052833</td>\n",
       "      <td>1.048066</td>\n",
       "      <td>127.944744</td>\n",
       "      <td>0.105658</td>\n",
       "      <td>...</td>\n",
       "      <td>0.387784</td>\n",
       "      <td>2.232970</td>\n",
       "      <td>74.128990</td>\n",
       "      <td>166.217211</td>\n",
       "      <td>168.095274</td>\n",
       "      <td>53.637352</td>\n",
       "      <td>-0.334952</td>\n",
       "      <td>-1.184904</td>\n",
       "      <td>56.674543</td>\n",
       "      <td>0.105658</td>\n",
       "    </tr>\n",
       "    <tr>\n",
       "      <th>109</th>\n",
       "      <td>66.093329</td>\n",
       "      <td>-0.580608</td>\n",
       "      <td>-3.098389</td>\n",
       "      <td>164.779848</td>\n",
       "      <td>145.390481</td>\n",
       "      <td>90.191238</td>\n",
       "      <td>-0.787947</td>\n",
       "      <td>-3.072721</td>\n",
       "      <td>119.668229</td>\n",
       "      <td>0.105658</td>\n",
       "      <td>...</td>\n",
       "      <td>-2.023648</td>\n",
       "      <td>3.071380</td>\n",
       "      <td>66.011982</td>\n",
       "      <td>114.323505</td>\n",
       "      <td>163.392274</td>\n",
       "      <td>24.179256</td>\n",
       "      <td>1.235701</td>\n",
       "      <td>0.139084</td>\n",
       "      <td>45.111620</td>\n",
       "      <td>0.105658</td>\n",
       "    </tr>\n",
       "  </tbody>\n",
       "</table>\n",
       "<p>110 rows × 21 columns</p>\n",
       "</div>"
      ],
      "text/plain": [
       "     pT_{Z}(GeV)  #eta_{Z}  #phi_{Z}  Energy_{Z}(GeV)  Mass_{Z}(GeV)  \\\n",
       "0      45.543166  0.735161  1.892232        82.497517      58.254290   \n",
       "1      35.550365  1.996663  1.769846       206.594030     157.820829   \n",
       "2      84.196153  0.313676 -2.886560       120.883981      82.481878   \n",
       "3      86.960182 -1.412185  1.208230       326.145743     265.747893   \n",
       "4      91.563436 -0.412365  0.019620       118.831570      65.029120   \n",
       "..           ...       ...       ...              ...            ...   \n",
       "105    21.610681 -0.454527  1.769293        54.326556      48.795891   \n",
       "106    12.571026 -2.995276 -2.941065       156.371798      92.651876   \n",
       "107    29.884160 -0.396376 -1.633173       155.670568     152.290663   \n",
       "108   103.799067 -0.111048  0.628315       184.619288     152.238708   \n",
       "109    66.093329 -0.580608 -3.098389       164.779848     145.390481   \n",
       "\n",
       "     pT_{#mu_{1}}(GeV)  #eta_{#mu_{1}}  #phi_{#mu_{1}}  Energy_{#mu_{1}}(GeV)  \\\n",
       "0            39.726429        0.120564        1.231759              40.015644   \n",
       "1            88.437050        0.656892        0.843829             108.213746   \n",
       "2            58.545189        0.090600        2.633425              58.785726   \n",
       "3            84.193352        0.571635        0.444047              98.327859   \n",
       "4            94.202202       -0.385520       -0.166564             101.289823   \n",
       "..                 ...             ...             ...                    ...   \n",
       "105          22.531841       -1.001603        2.253584              34.811097   \n",
       "106          30.682158       -2.115768       -1.850946             129.118215   \n",
       "107          35.186256       -1.553373       -1.222875              86.891114   \n",
       "108         127.766342        0.052833        1.048066             127.944744   \n",
       "109          90.191238       -0.787947       -3.072721             119.668229   \n",
       "\n",
       "     Mass_{#mu_{1}}(GeV))  ...  #Delta{#eta}_{#mu_{1}#mu_{2}}  \\\n",
       "0                0.105658  ...                      -0.847968   \n",
       "1                0.105658  ...                      -0.157797   \n",
       "2                0.105658  ...                      -0.271174   \n",
       "3                0.105658  ...                       2.516252   \n",
       "4                0.105658  ...                      -0.293271   \n",
       "..                    ...  ...                            ...   \n",
       "105              0.105658  ...                      -2.218978   \n",
       "106              0.105658  ...                      -2.118749   \n",
       "107              0.105658  ...                      -3.810776   \n",
       "108              0.105658  ...                       0.387784   \n",
       "109              0.105658  ...                      -2.023648   \n",
       "\n",
       "     #Delta{#phi}_{#mu_{1}#mu_{2}}  #Delta{pT}_{#mu_{1}#mu_{2}}(GeV)  \\\n",
       "0                        -1.704597                         11.534151   \n",
       "1                        -2.740884                         15.596497   \n",
       "2                        -1.531344                          0.300335   \n",
       "3                        -1.912680                         20.325119   \n",
       "4                        -1.814878                         76.735147   \n",
       "..                             ...                               ...   \n",
       "105                       1.897230                         11.909359   \n",
       "106                       2.720238                          3.428900   \n",
       "107                       2.149189                         20.950441   \n",
       "108                       2.232970                         74.128990   \n",
       "109                       3.071380                         66.011982   \n",
       "\n",
       "     #Delta{#vec{pT}}_{#mu_{1}#mu_{2}}(GeV)  \\\n",
       "0                                 51.689529   \n",
       "1                                158.081901   \n",
       "2                                 80.938323   \n",
       "3                                121.545342   \n",
       "4                                 99.872132   \n",
       "..                                      ...   \n",
       "105                               27.821224   \n",
       "106                               56.658971   \n",
       "107                               44.591469   \n",
       "108                              166.217211   \n",
       "109                              114.323505   \n",
       "\n",
       "     #Delta{#vec{p}}_{#mu_{1}#mu_{2}}(GeV)  pT_{#mu_{2}}(GeV)  #eta_{#mu_{2}}  \\\n",
       "0                                58.306089          28.192278        0.968532   \n",
       "1                               158.126742          72.840553        0.814688   \n",
       "2                                82.548098          58.244854        0.361774   \n",
       "3                               295.617261          63.868233       -1.944617   \n",
       "4                               106.030572          17.467054       -0.092249   \n",
       "..                                     ...                ...             ...   \n",
       "105                              51.136590          10.622482        1.217375   \n",
       "106                             137.697961          27.253258        0.002981   \n",
       "107                             153.363730          14.235815        2.257404   \n",
       "108                             168.095274          53.637352       -0.334952   \n",
       "109                             163.392274          24.179256        1.235701   \n",
       "\n",
       "     #phi_{#mu_{2}}  Energy_{#mu_{2}}(GeV)  Mass_{#mu_{2}}(GeV))  \n",
       "0          2.936356              42.481872              0.105658  \n",
       "1         -2.698472              98.380283              0.105658  \n",
       "2         -2.118416              62.098255              0.105658  \n",
       "3          2.356727             227.817884              0.105658  \n",
       "4          1.648314              17.541746              0.105658  \n",
       "..              ...                    ...                   ...  \n",
       "105        0.356354              19.515459              0.105658  \n",
       "106        1.712001              27.253584              0.105658  \n",
       "107        2.911121              68.779454              0.105658  \n",
       "108       -1.184904              56.674543              0.105658  \n",
       "109        0.139084              45.111620              0.105658  \n",
       "\n",
       "[110 rows x 21 columns]"
      ]
     },
     "execution_count": 4,
     "metadata": {},
     "output_type": "execute_result"
    }
   ],
   "source": [
    "Datasets['stop']"
   ]
  },
  {
   "cell_type": "markdown",
   "id": "9e0ad3b0-cdca-437e-822a-16d1f2fbb2dd",
   "metadata": {},
   "source": [
    "**2. Plot histograms with matplotlib using Uniandes_Framework:**\n",
    "\n",
    "In python, it is very common to think in Matplotlib when you want to plot something. We create a function to plot whatever Dataset column using Matplotlib:"
   ]
  },
  {
   "cell_type": "code",
   "execution_count": 5,
   "id": "54392b9c-13e2-4ec2-8a80-736af62ab28d",
   "metadata": {},
   "outputs": [
    {
     "data": {
      "image/png": "[encoded data removed]",
      "text/plain": [
       "<Figure size 600x400 with 1 Axes>"
      ]
     },
     "metadata": {},
     "output_type": "display_data"
    }
   ],
   "source": [
    "root_analysis.histos_matplotlib(Datasets['stop'], 'Mass_{Z}(GeV)') #This function also has other parameters to select nbins, color, log10 scale, or save the plot in a file."
   ]
  },
  {
   "cell_type": "markdown",
   "id": "3b11bfeb-53d2-4fcc-a90a-43c0382ef357",
   "metadata": {},
   "source": [
    "However, in High Energy Physics people usually tend to use ROOT. By this, we made a more complex function to create all the histograms contained in a DataFrame using ROOT."
   ]
  },
  {
   "cell_type": "markdown",
   "id": "7bb206d7-69d6-4def-b017-cbdd2143e02c",
   "metadata": {},
   "source": [
    "**3. Create histograms:**\n",
    "\n",
    "We can use the function **root_analysis.makehistograms()**. If we want to generate all the histograms for each column on Datasets['stop'], it is enough to run the following code:"
   ]
  },
  {
   "cell_type": "code",
   "execution_count": 6,
   "id": "fcf11926-e3c7-400b-a653-1e6652d44fd1",
   "metadata": {},
   "outputs": [],
   "source": [
    "default_hist_bins_dict={\n",
    "    \"#Delta{R}\":[96,0,7],\n",
    "    \"#Delta{#eta}\":[80,-5,5],\n",
    "    \"#Delta{#phi}\":[52,-3.25,3.25],\n",
    "    \"#Delta{pT}\":[120, 0.0, 1500.0],\n",
    "    \"#Delta{#vec{pT}}\":[240, 0.0, 4800.0],\n",
    "    \"#Delta{#vec{p}}\":[240, 0.0, 4800.0],\n",
    "    \"MET(GeV)\":[80, 0.0, 1000.0],\n",
    "    \"pT_\": [160, 0.0, 2000.0],\n",
    "    \"sT(GeV)\": [200, 0.0, 4000.0],\n",
    "    \"mT(GeV)\": [200, 0.0, 4000.0],\n",
    "    \"#eta_\":[80, -5, 5],\n",
    "    \"#phi_\":[128, -3.2, 3.2],\n",
    "    \"Energy_\":[80, 0.0, 1000.0],\n",
    "    \"m_ll(GeV)\" : [100, 800.0, 8000.0],\n",
    "    \"Mass_{Z}(GeV)\": [200, 0.0, 1000.0]\n",
    "}"
   ]
  },
  {
   "cell_type": "code",
   "execution_count": 7,
   "id": "55cf8450-c8e5-4264-9218-1b3df402572f",
   "metadata": {},
   "outputs": [
    {
     "data": {
      "text/plain": [
       "{'pT_{Z}(GeV)': <cppyy.gbl.TH1F object at 0x555e03ce14e0>,\n",
       " '#eta_{Z}': <cppyy.gbl.TH1F object at 0x555e03e2f640>,\n",
       " '#phi_{Z}': <cppyy.gbl.TH1F object at 0x555e03dfd250>,\n",
       " 'Energy_{Z}(GeV)': <cppyy.gbl.TH1F object at 0x555e00d8a2d0>,\n",
       " 'Mass_{Z}(GeV)': <cppyy.gbl.TH1F object at 0x555e03e0d8d0>,\n",
       " 'pT_{#mu_{1}}(GeV)': <cppyy.gbl.TH1F object at 0x555e03e35ad0>,\n",
       " '#eta_{#mu_{1}}': <cppyy.gbl.TH1F object at 0x555e00d8c690>,\n",
       " '#phi_{#mu_{1}}': <cppyy.gbl.TH1F object at 0x555e03e27160>,\n",
       " 'Energy_{#mu_{1}}(GeV)': <cppyy.gbl.TH1F object at 0x555e03e1bd00>,\n",
       " '#Delta{R}_{#mu_{1}#mu_{2}}': <cppyy.gbl.TH1F object at 0x555e03e1c130>,\n",
       " '#Delta{#eta}_{#mu_{1}#mu_{2}}': <cppyy.gbl.TH1F object at 0x555e03e0e0f0>,\n",
       " '#Delta{#phi}_{#mu_{1}#mu_{2}}': <cppyy.gbl.TH1F object at 0x555e03e20ef0>,\n",
       " '#Delta{pT}_{#mu_{1}#mu_{2}}(GeV)': <cppyy.gbl.TH1F object at 0x555e03e21320>,\n",
       " '#Delta{#vec{pT}}_{#mu_{1}#mu_{2}}(GeV)': <cppyy.gbl.TH1F object at 0x555e03e21b20>,\n",
       " '#Delta{#vec{p}}_{#mu_{1}#mu_{2}}(GeV)': <cppyy.gbl.TH1F object at 0x555e03e266c0>,\n",
       " 'pT_{#mu_{2}}(GeV)': <cppyy.gbl.TH1F object at 0x555e01620d90>,\n",
       " '#eta_{#mu_{2}}': <cppyy.gbl.TH1F object at 0x555e03dface0>,\n",
       " '#phi_{#mu_{2}}': <cppyy.gbl.TH1F object at 0x555e03e3d720>,\n",
       " 'Energy_{#mu_{2}}(GeV)': <cppyy.gbl.TH1F object at 0x555e03e3e010>}"
      ]
     },
     "execution_count": 7,
     "metadata": {},
     "output_type": "execute_result"
    }
   ],
   "source": [
    "root_analysis.make_histograms(Datasets['stop'], hist_bins_dict = default_hist_bins_dict)"
   ]
  },
  {
   "cell_type": "markdown",
   "id": "6d2095e0-463e-4971-95e7-ee3cd0b9b16d",
   "metadata": {},
   "source": [
    "This function returns a directory with TH1F objects (ROOT histograms).\n",
    "\n",
    "We can do this with all Datasets and save all dictionaries inside a bigger dictionary:"
   ]
  },
  {
   "cell_type": "code",
   "execution_count": 8,
   "id": "b1647762-cd23-4b73-a41d-ed2608b6e820",
   "metadata": {},
   "outputs": [],
   "source": [
    "Histos_Dictionary = {'z': root_analysis.make_histograms(Datasets['z'], hist_bins_dict = default_hist_bins_dict),\n",
    "                    'stop': root_analysis.make_histograms(Datasets['stop'], hist_bins_dict = default_hist_bins_dict),\n",
    "                    'ttbar': root_analysis.make_histograms(Datasets['ttbar'], hist_bins_dict = default_hist_bins_dict),\n",
    "                    'ww': root_analysis.make_histograms(Datasets['ww'], hist_bins_dict = default_hist_bins_dict)}"
   ]
  },
  {
   "cell_type": "code",
   "execution_count": 9,
   "id": "9690b673-28a6-414e-b80d-ab906ee6a8b1",
   "metadata": {},
   "outputs": [
    {
     "data": {
      "text/plain": [
       "{'z': {'pT_{Z}(GeV)': <cppyy.gbl.TH1F object at 0x555e03e377c0>,\n",
       "  '#eta_{Z}': <cppyy.gbl.TH1F object at 0x555e03e24160>,\n",
       "  '#phi_{Z}': <cppyy.gbl.TH1F object at 0x555e03e24630>,\n",
       "  'Energy_{Z}(GeV)': <cppyy.gbl.TH1F object at 0x555e03e24ed0>,\n",
       "  'Mass_{Z}(GeV)': <cppyy.gbl.TH1F object at 0x555e03e24ac0>,\n",
       "  'pT_{#mu_{1}}(GeV)': <cppyy.gbl.TH1F object at 0x555e03e56d20>,\n",
       "  '#eta_{#mu_{1}}': <cppyy.gbl.TH1F object at 0x555e03e57280>,\n",
       "  '#phi_{#mu_{1}}': <cppyy.gbl.TH1F object at 0x555e03e329d0>,\n",
       "  'Energy_{#mu_{1}}(GeV)': <cppyy.gbl.TH1F object at 0x555e0161db10>,\n",
       "  '#Delta{R}_{#mu_{1}#mu_{2}}': <cppyy.gbl.TH1F object at 0x555e0161e460>,\n",
       "  '#Delta{#eta}_{#mu_{1}#mu_{2}}': <cppyy.gbl.TH1F object at 0x555e0161e940>,\n",
       "  '#Delta{#phi}_{#mu_{1}#mu_{2}}': <cppyy.gbl.TH1F object at 0x555e03e51ac0>,\n",
       "  '#Delta{pT}_{#mu_{1}#mu_{2}}(GeV)': <cppyy.gbl.TH1F object at 0x555e03e51fa0>,\n",
       "  '#Delta{#vec{pT}}_{#mu_{1}#mu_{2}}(GeV)': <cppyy.gbl.TH1F object at 0x555e03e52480>,\n",
       "  '#Delta{#vec{p}}_{#mu_{1}#mu_{2}}(GeV)': <cppyy.gbl.TH1F object at 0x555e03e4f100>,\n",
       "  'pT_{#mu_{2}}(GeV)': <cppyy.gbl.TH1F object at 0x555e03e4f650>,\n",
       "  '#eta_{#mu_{2}}': <cppyy.gbl.TH1F object at 0x555e03e54100>,\n",
       "  '#phi_{#mu_{2}}': <cppyy.gbl.TH1F object at 0x555e03e54990>,\n",
       "  'Energy_{#mu_{2}}(GeV)': <cppyy.gbl.TH1F object at 0x555e03e55280>},\n",
       " 'stop': {'pT_{Z}(GeV)': <cppyy.gbl.TH1F object at 0x555e03e2a0d0>,\n",
       "  '#eta_{Z}': <cppyy.gbl.TH1F object at 0x555e03e2aa90>,\n",
       "  '#phi_{Z}': <cppyy.gbl.TH1F object at 0x555e03e2b350>,\n",
       "  'Energy_{Z}(GeV)': <cppyy.gbl.TH1F object at 0x555e03e2bc40>,\n",
       "  'Mass_{Z}(GeV)': <cppyy.gbl.TH1F object at 0x555e03e2c500>,\n",
       "  'pT_{#mu_{1}}(GeV)': <cppyy.gbl.TH1F object at 0x555e03e2d360>,\n",
       "  '#eta_{#mu_{1}}': <cppyy.gbl.TH1F object at 0x555e03e38640>,\n",
       "  '#phi_{#mu_{1}}': <cppyy.gbl.TH1F object at 0x555e03e38c30>,\n",
       "  'Energy_{#mu_{1}}(GeV)': <cppyy.gbl.TH1F object at 0x555e03e39520>,\n",
       "  '#Delta{R}_{#mu_{1}#mu_{2}}': <cppyy.gbl.TH1F object at 0x555e03e39ba0>,\n",
       "  '#Delta{#eta}_{#mu_{1}#mu_{2}}': <cppyy.gbl.TH1F object at 0x555e03e3a080>,\n",
       "  '#Delta{#phi}_{#mu_{1}#mu_{2}}': <cppyy.gbl.TH1F object at 0x555e03e3aba0>,\n",
       "  '#Delta{pT}_{#mu_{1}#mu_{2}}(GeV)': <cppyy.gbl.TH1F object at 0x555e03e3b080>,\n",
       "  '#Delta{#vec{pT}}_{#mu_{1}#mu_{2}}(GeV)': <cppyy.gbl.TH1F object at 0x555e03e3b9c0>,\n",
       "  '#Delta{#vec{p}}_{#mu_{1}#mu_{2}}(GeV)': <cppyy.gbl.TH1F object at 0x555e03e58720>,\n",
       "  'pT_{#mu_{2}}(GeV)': <cppyy.gbl.TH1F object at 0x555e03e593a0>,\n",
       "  '#eta_{#mu_{2}}': <cppyy.gbl.TH1F object at 0x555e03e5a040>,\n",
       "  '#phi_{#mu_{2}}': <cppyy.gbl.TH1F object at 0x555e03e5a650>,\n",
       "  'Energy_{#mu_{2}}(GeV)': <cppyy.gbl.TH1F object at 0x555e03e5af10>},\n",
       " 'ttbar': {'pT_{Z}(GeV)': <cppyy.gbl.TH1F object at 0x555e03e5b7f0>,\n",
       "  '#eta_{Z}': <cppyy.gbl.TH1F object at 0x555e03e5c510>,\n",
       "  '#phi_{Z}': <cppyy.gbl.TH1F object at 0x555e03e5ce10>,\n",
       "  'Energy_{Z}(GeV)': <cppyy.gbl.TH1F object at 0x555e03e5d720>,\n",
       "  'Mass_{Z}(GeV)': <cppyy.gbl.TH1F object at 0x555e03e5e990>,\n",
       "  'pT_{#mu_{1}}(GeV)': <cppyy.gbl.TH1F object at 0x555e03e5f4e0>,\n",
       "  '#eta_{#mu_{1}}': <cppyy.gbl.TH1F object at 0x555e03e601c0>,\n",
       "  '#phi_{#mu_{1}}': <cppyy.gbl.TH1F object at 0x555e03e60a70>,\n",
       "  'Energy_{#mu_{1}}(GeV)': <cppyy.gbl.TH1F object at 0x555e03e61380>,\n",
       "  '#Delta{R}_{#mu_{1}#mu_{2}}': <cppyy.gbl.TH1F object at 0x555e03e61cd0>,\n",
       "  '#Delta{#eta}_{#mu_{1}#mu_{2}}': <cppyy.gbl.TH1F object at 0x555e03e621d0>,\n",
       "  '#Delta{#phi}_{#mu_{1}#mu_{2}}': <cppyy.gbl.TH1F object at 0x555e03e62f80>,\n",
       "  '#Delta{pT}_{#mu_{1}#mu_{2}}(GeV)': <cppyy.gbl.TH1F object at 0x555e03e634a0>,\n",
       "  '#Delta{#vec{pT}}_{#mu_{1}#mu_{2}}(GeV)': <cppyy.gbl.TH1F object at 0x555e03e63e20>,\n",
       "  '#Delta{#vec{p}}_{#mu_{1}#mu_{2}}(GeV)': <cppyy.gbl.TH1F object at 0x555e03e64b20>,\n",
       "  'pT_{#mu_{2}}(GeV)': <cppyy.gbl.TH1F object at 0x555e03e65bb0>,\n",
       "  '#eta_{#mu_{2}}': <cppyy.gbl.TH1F object at 0x555e03e66870>,\n",
       "  '#phi_{#mu_{2}}': <cppyy.gbl.TH1F object at 0x555e03e67160>,\n",
       "  'Energy_{#mu_{2}}(GeV)': <cppyy.gbl.TH1F object at 0x555e03e67c50>},\n",
       " 'ww': {'pT_{Z}(GeV)': <cppyy.gbl.TH1F object at 0x555e03e68550>,\n",
       "  '#eta_{Z}': <cppyy.gbl.TH1F object at 0x555e03e69270>,\n",
       "  '#phi_{Z}': <cppyy.gbl.TH1F object at 0x555e03e69b70>,\n",
       "  'Energy_{Z}(GeV)': <cppyy.gbl.TH1F object at 0x555e03e6a690>,\n",
       "  'Mass_{Z}(GeV)': <cppyy.gbl.TH1F object at 0x555e03e6af70>,\n",
       "  'pT_{#mu_{1}}(GeV)': <cppyy.gbl.TH1F object at 0x555e03e6bdf0>,\n",
       "  '#eta_{#mu_{1}}': <cppyy.gbl.TH1F object at 0x555e03e6cad0>,\n",
       "  '#phi_{#mu_{1}}': <cppyy.gbl.TH1F object at 0x555e03e6d380>,\n",
       "  'Energy_{#mu_{1}}(GeV)': <cppyy.gbl.TH1F object at 0x555e03e6dea0>,\n",
       "  '#Delta{R}_{#mu_{1}#mu_{2}}': <cppyy.gbl.TH1F object at 0x555e03e6e7f0>,\n",
       "  '#Delta{#eta}_{#mu_{1}#mu_{2}}': <cppyy.gbl.TH1F object at 0x555e03e6ecf0>,\n",
       "  '#Delta{#phi}_{#mu_{1}#mu_{2}}': <cppyy.gbl.TH1F object at 0x555e03e6faa0>,\n",
       "  '#Delta{pT}_{#mu_{1}#mu_{2}}(GeV)': <cppyy.gbl.TH1F object at 0x555e03e6ffc0>,\n",
       "  '#Delta{#vec{pT}}_{#mu_{1}#mu_{2}}(GeV)': <cppyy.gbl.TH1F object at 0x555e03e70b30>,\n",
       "  '#Delta{#vec{p}}_{#mu_{1}#mu_{2}}(GeV)': <cppyy.gbl.TH1F object at 0x555e03e71c00>,\n",
       "  'pT_{#mu_{2}}(GeV)': <cppyy.gbl.TH1F object at 0x555e03e72c90>,\n",
       "  '#eta_{#mu_{2}}': <cppyy.gbl.TH1F object at 0x555e03e73950>,\n",
       "  '#phi_{#mu_{2}}': <cppyy.gbl.TH1F object at 0x555e03e74240>,\n",
       "  'Energy_{#mu_{2}}(GeV)': <cppyy.gbl.TH1F object at 0x555e03e74d30>}}"
      ]
     },
     "execution_count": 9,
     "metadata": {},
     "output_type": "execute_result"
    }
   ],
   "source": [
    "Histos_Dictionary"
   ]
  },
  {
   "cell_type": "markdown",
   "id": "8434f22f-bdff-49d9-b0ce-6a8dee480b68",
   "metadata": {},
   "source": [
    "Now, if we want to plot one of them. We can use TCanvas:"
   ]
  },
  {
   "cell_type": "code",
   "execution_count": 10,
   "id": "694b16ad-21a4-4c67-9359-8d761dccd3ba",
   "metadata": {},
   "outputs": [
    {
     "data": {
      "image/png": "[encoded data removed]",
      "text/plain": [
       "<IPython.core.display.Image object>"
      ]
     },
     "metadata": {},
     "output_type": "display_data"
    }
   ],
   "source": [
    "canvas = TCanvas(\"Canvas\", \" \", 600, 400)\n",
    "Histos_Dictionary['z']['Mass_{Z}(GeV)'].Draw('hist')\n",
    "canvas.Draw()"
   ]
  },
  {
   "cell_type": "markdown",
   "id": "5a542ab3-98c9-4613-b3f4-13a2eb52e706",
   "metadata": {},
   "source": [
    "**4. Overlap or Stack histograms:**\n",
    "\n",
    "We can use the function **root_analysis.overlap_histos()**. This function has two main parameters: kinematic_variable and Dict_Histos, they are a string with the name of the kinematic variable and the directory with all the histograms (it should be a directory with the same structure that we use in this tutorial) respectively."
   ]
  },
  {
   "cell_type": "code",
   "execution_count": 11,
   "id": "4634a2c8-d89e-491c-8d52-06800ddaea5c",
   "metadata": {},
   "outputs": [
    {
     "data": {
      "image/png": "[encoded data removed]",
      "text/plain": [
       "<IPython.core.display.Image object>"
      ]
     },
     "metadata": {},
     "output_type": "display_data"
    }
   ],
   "source": [
    "Histos, Canva, Legend = root_analysis.overlap_histos(kinematic_variable= 'Mass_{Z}(GeV)', \n",
    "                                                     dict_histos= Histos_Dictionary)"
   ]
  },
  {
   "cell_type": "code",
   "execution_count": 12,
   "id": "4565bc0a-961b-480c-aeea-cc69d67c3fba",
   "metadata": {},
   "outputs": [
    {
     "data": {
      "image/png": "[encoded data removed]",
      "text/plain": [
       "<IPython.core.display.Image object>"
      ]
     },
     "metadata": {},
     "output_type": "display_data"
    }
   ],
   "source": [
    "Histos, Canva, Legend = root_analysis.overlap_histos(kinematic_variable= '#phi_{Z}', \n",
    "                                                     dict_histos= Histos_Dictionary)"
   ]
  },
  {
   "cell_type": "markdown",
   "id": "1bb5728e-7781-4a62-980c-fcce3f55bb55",
   "metadata": {},
   "source": [
    "If we want to Stack we have to add Stack = True as other parameter inside the function:"
   ]
  },
  {
   "cell_type": "code",
   "execution_count": 13,
   "id": "03124a66-405b-4f7e-a828-6090db872bdc",
   "metadata": {},
   "outputs": [
    {
     "data": {
      "image/png": "[encoded data removed]",
      "text/plain": [
       "<IPython.core.display.Image object>"
      ]
     },
     "metadata": {},
     "output_type": "display_data"
    }
   ],
   "source": [
    "Histos, Canva, Legend = root_analysis.overlap_histos(kinematic_variable= '#phi_{Z}', \n",
    "                                                     dict_histos= Histos_Dictionary,\n",
    "                                                     stack= True)"
   ]
  },
  {
   "cell_type": "markdown",
   "id": "c3fc88ec-5c85-4b97-8e89-30993628f453",
   "metadata": {},
   "source": [
    "Of course, before doing that we have to care about the normalization of each histogram. \n",
    "\n",
    "**This code is written to stack histograms that are normalized with the number of physical events.**"
   ]
  },
  {
   "cell_type": "markdown",
   "id": "ac805f3c-54cf-45b0-b159-3f83750d166e",
   "metadata": {},
   "source": [
    "**5. Sum histograms:**\n",
    "\n",
    "We can use the function **root_analysis.sum_histos()** and put as a parameter a list with the histograms that we want to sum."
   ]
  },
  {
   "cell_type": "code",
   "execution_count": 14,
   "id": "ef5fef28-3c60-4322-b4a8-a9c14efb7aaf",
   "metadata": {},
   "outputs": [],
   "source": [
    "Histos_for_sum = [Histos_Dictionary['z']['#phi_{Z}'], Histos_Dictionary['ww']['#phi_{Z}'], Histos_Dictionary['ttbar']['#phi_{Z}']]"
   ]
  },
  {
   "cell_type": "code",
   "execution_count": 15,
   "id": "638c5b8f-0e70-4dca-8940-d5ad73a10244",
   "metadata": {},
   "outputs": [],
   "source": [
    "Histo = root_analysis.sum_histos(Histos_for_sum)"
   ]
  },
  {
   "cell_type": "code",
   "execution_count": 16,
   "id": "e757dc8d-68ee-48e3-a28b-927b6953ae4d",
   "metadata": {},
   "outputs": [
    {
     "data": {
      "image/png": "[encoded data removed]",
      "text/plain": [
       "<IPython.core.display.Image object>"
      ]
     },
     "metadata": {},
     "output_type": "display_data"
    }
   ],
   "source": [
    "canvas = TCanvas(\"sum_histos\", \" \", 600, 400)\n",
    "Histo.Draw('hist')\n",
    "canvas.Draw()"
   ]
  },
  {
   "cell_type": "markdown",
   "id": "b4a2241a-cdcd-4d35-be0c-e1a7cb49cc22",
   "metadata": {},
   "source": [
    "We also can do the substraction of the histograms, to do this we must set the parameter substract as True:"
   ]
  },
  {
   "cell_type": "code",
   "execution_count": 17,
   "id": "f3392cdc-45ce-42dc-8f5e-09cb708aca15",
   "metadata": {},
   "outputs": [],
   "source": [
    "Histo = root_analysis.sum_histos(Histos_for_sum, substract= True)"
   ]
  },
  {
   "cell_type": "code",
   "execution_count": 18,
   "id": "20a28cc6-2393-4a40-b17f-dd4105ab41a0",
   "metadata": {},
   "outputs": [
    {
     "name": "stderr",
     "output_type": "stream",
     "text": [
      "Warning in <TCanvas::Constructor>: Deleting canvas with same name: sum_histos\n"
     ]
    },
    {
     "data": {
      "image/png": "[encoded data removed]",
      "text/plain": [
       "<IPython.core.display.Image object>"
      ]
     },
     "metadata": {},
     "output_type": "display_data"
    }
   ],
   "source": [
    "canvas = TCanvas(\"sum_histos\", \" \", 600, 400)\n",
    "Histo.Draw('hist')\n",
    "canvas.Draw()"
   ]
  },
  {
   "cell_type": "markdown",
   "id": "e928ca4d-0c64-4b6a-a18c-665898e9e92d",
   "metadata": {},
   "source": [
    "Again, before do that we have to care about normalization of each histograms. \n",
    "\n",
    "**This code is written to sum histograms that are normalized with the number of physical events.**\n",
    "\n",
    "Conclusion: **Working with the correct normalization is the user responsibility.**"
   ]
  },
  {
   "cell_type": "markdown",
   "id": "56dc7587-a672-4a0e-bdc7-c656516bffef",
   "metadata": {},
   "source": [
    "**6. Fill holes in histograms**\n",
    "\n",
    "In order to know which histograms have holes we can use the function **root_analysis.review_holes_in_histograms()**. This function has one parameter: Dict[str, TH1F] (It is a dictionary that contains all the histograms).\n",
    "\n",
    "Let us try to analyze if Histos_Dictionary['z'] has histograms with holes:"
   ]
  },
  {
   "cell_type": "code",
   "execution_count": 19,
   "id": "fc4fdfa5-fc34-45ac-ad6c-91b6c122d8c0",
   "metadata": {},
   "outputs": [
    {
     "data": {
      "text/plain": [
       "['pT_{Z}(GeV)',\n",
       " '#eta_{Z}',\n",
       " '#phi_{Z}',\n",
       " 'Energy_{Z}(GeV)',\n",
       " 'Mass_{Z}(GeV)',\n",
       " 'pT_{#mu_{1}}(GeV)',\n",
       " '#eta_{#mu_{1}}',\n",
       " '#phi_{#mu_{1}}',\n",
       " 'Energy_{#mu_{1}}(GeV)',\n",
       " '#Delta{R}_{#mu_{1}#mu_{2}}',\n",
       " '#Delta{#eta}_{#mu_{1}#mu_{2}}',\n",
       " '#Delta{pT}_{#mu_{1}#mu_{2}}(GeV)',\n",
       " '#Delta{#vec{pT}}_{#mu_{1}#mu_{2}}(GeV)',\n",
       " '#Delta{#vec{p}}_{#mu_{1}#mu_{2}}(GeV)',\n",
       " 'pT_{#mu_{2}}(GeV)',\n",
       " '#eta_{#mu_{2}}',\n",
       " '#phi_{#mu_{2}}',\n",
       " 'Energy_{#mu_{2}}(GeV)']"
      ]
     },
     "execution_count": 19,
     "metadata": {},
     "output_type": "execute_result"
    }
   ],
   "source": [
    "root_analysis.review_holes_in_histograms(Histos_Dictionary['z'])"
   ]
  },
  {
   "cell_type": "markdown",
   "id": "26e4fd73-21dc-4cba-8cdf-39889d0b789b",
   "metadata": {},
   "source": [
    "Let us see one the holes that 'pT_{Z}(GeV)' histogram have:"
   ]
  },
  {
   "cell_type": "code",
   "execution_count": 20,
   "id": "05b32635-7bf7-4fda-a587-1436340ce6ba",
   "metadata": {},
   "outputs": [
    {
     "name": "stderr",
     "output_type": "stream",
     "text": [
      "Warning in <TCanvas::Constructor>: Deleting canvas with same name: sum_histos\n"
     ]
    },
    {
     "data": {
      "image/png": "[encoded data removed]",
      "text/plain": [
       "<IPython.core.display.Image object>"
      ]
     },
     "metadata": {},
     "output_type": "display_data"
    }
   ],
   "source": [
    "canvas = TCanvas(\"sum_histos\", \" \", 600, 400)\n",
    "Histos_Dictionary['z']['pT_{Z}(GeV)'].Draw('hist')\n",
    "canvas.Draw()\n",
    "canvas.SetLogy()"
   ]
  },
  {
   "cell_type": "markdown",
   "id": "d9e5a51c-a007-42ff-bc16-c4cfffe8d0a8",
   "metadata": {},
   "source": [
    "Now, if we want to fill the holes we can use the **function root_analysis.fill_holes_in_histogram()**."
   ]
  },
  {
   "cell_type": "code",
   "execution_count": 21,
   "id": "ff25fbc7-24b2-404a-9c13-8182786bca7b",
   "metadata": {},
   "outputs": [],
   "source": [
    "Histo_filled = root_analysis.fill_holes_in_histogram(histo = Histos_Dictionary['z']['pT_{Z}(GeV)'])"
   ]
  },
  {
   "cell_type": "code",
   "execution_count": 22,
   "id": "b9def5d1-8e36-4cd5-860d-23a4807b2bd2",
   "metadata": {},
   "outputs": [
    {
     "name": "stderr",
     "output_type": "stream",
     "text": [
      "Warning in <TCanvas::Constructor>: Deleting canvas with same name: sum_histos\n"
     ]
    },
    {
     "data": {
      "image/png": "[encoded data removed]",
      "text/plain": [
       "<IPython.core.display.Image object>"
      ]
     },
     "metadata": {},
     "output_type": "display_data"
    }
   ],
   "source": [
    "canvas = TCanvas(\"sum_histos\", \" \", 600, 400)\n",
    "Histo_filled.Draw('hist')\n",
    "canvas.Draw()\n",
    "canvas.SetLogy()"
   ]
  },
  {
   "cell_type": "markdown",
   "id": "8fb815c6-bd16-4c74-9e10-e7cc11f3c770",
   "metadata": {},
   "source": [
    "This function uses by default a value of 10e-4, however we can set the value using the parameter value_to_fill. Let us fill the holes of 'Energy_{#mu_{1}}(GeV)' histogram with 10e-8."
   ]
  },
  {
   "cell_type": "code",
   "execution_count": 23,
   "id": "bb24ff4d-d2d3-4488-ad62-927c74b125df",
   "metadata": {},
   "outputs": [],
   "source": [
    "Histo_filled = root_analysis.fill_holes_in_histogram(histo = Histos_Dictionary['z']['Energy_{#mu_{1}}(GeV)'], value_to_fill= 10e-8)"
   ]
  },
  {
   "cell_type": "code",
   "execution_count": 24,
   "id": "58d68b47-8716-43ed-b6ce-0a3801a052aa",
   "metadata": {},
   "outputs": [
    {
     "name": "stderr",
     "output_type": "stream",
     "text": [
      "Warning in <TCanvas::Constructor>: Deleting canvas with same name: sum_histos\n"
     ]
    },
    {
     "data": {
      "image/png": "[encoded data removed]",
      "text/plain": [
       "<IPython.core.display.Image object>"
      ]
     },
     "metadata": {},
     "output_type": "display_data"
    }
   ],
   "source": [
    "canvas = TCanvas(\"sum_histos\", \" \", 600, 400)\n",
    "Histo_filled.Draw('hist')\n",
    "canvas.Draw()\n",
    "canvas.SetLogy()"
   ]
  },
  {
   "cell_type": "markdown",
   "id": "1e02aea6-936e-4050-b9bd-126a68fe86f3",
   "metadata": {},
   "source": [
    "**7. Save histograms in a .root file**\n",
    "\n",
    "There are two options to save histograms in a .root file. You can use Uproot (In case you want, please refer to: https://github.com/Phenomenology-group-uniandes/Tutoriales_Generales/blob/main/5_Uproot_guardado_y_lectura_en_archivos_root.ipynb) or use the function **root_analysis.write_root_files()**. This function has two parameters: file_name (It is the name that the .root file will have) and  dict_Hist  It is a dictionary where the keys are the names of the histograms and the values are the TH1F histogram).\n",
    "\n",
    "Let us try to save Histos_Dictionary['z'] in a root file."
   ]
  },
  {
   "cell_type": "code",
   "execution_count": 25,
   "id": "e534bb19-c273-4572-9c26-6b5341b9e70b",
   "metadata": {},
   "outputs": [
    {
     "data": {
      "text/plain": [
       "{'pT_{Z}(GeV)': <cppyy.gbl.TH1F object at 0x555e03e377c0>,\n",
       " '#eta_{Z}': <cppyy.gbl.TH1F object at 0x555e03e24160>,\n",
       " '#phi_{Z}': <cppyy.gbl.TH1F object at 0x555e03e24630>,\n",
       " 'Energy_{Z}(GeV)': <cppyy.gbl.TH1F object at 0x555e03e24ed0>,\n",
       " 'Mass_{Z}(GeV)': <cppyy.gbl.TH1F object at 0x555e03e24ac0>,\n",
       " 'pT_{#mu_{1}}(GeV)': <cppyy.gbl.TH1F object at 0x555e03e56d20>,\n",
       " '#eta_{#mu_{1}}': <cppyy.gbl.TH1F object at 0x555e03e57280>,\n",
       " '#phi_{#mu_{1}}': <cppyy.gbl.TH1F object at 0x555e03e329d0>,\n",
       " 'Energy_{#mu_{1}}(GeV)': <cppyy.gbl.TH1F object at 0x555e0161db10>,\n",
       " '#Delta{R}_{#mu_{1}#mu_{2}}': <cppyy.gbl.TH1F object at 0x555e0161e460>,\n",
       " '#Delta{#eta}_{#mu_{1}#mu_{2}}': <cppyy.gbl.TH1F object at 0x555e0161e940>,\n",
       " '#Delta{#phi}_{#mu_{1}#mu_{2}}': <cppyy.gbl.TH1F object at 0x555e03e51ac0>,\n",
       " '#Delta{pT}_{#mu_{1}#mu_{2}}(GeV)': <cppyy.gbl.TH1F object at 0x555e03e51fa0>,\n",
       " '#Delta{#vec{pT}}_{#mu_{1}#mu_{2}}(GeV)': <cppyy.gbl.TH1F object at 0x555e03e52480>,\n",
       " '#Delta{#vec{p}}_{#mu_{1}#mu_{2}}(GeV)': <cppyy.gbl.TH1F object at 0x555e03e4f100>,\n",
       " 'pT_{#mu_{2}}(GeV)': <cppyy.gbl.TH1F object at 0x555e03e4f650>,\n",
       " '#eta_{#mu_{2}}': <cppyy.gbl.TH1F object at 0x555e03e54100>,\n",
       " '#phi_{#mu_{2}}': <cppyy.gbl.TH1F object at 0x555e03e54990>,\n",
       " 'Energy_{#mu_{2}}(GeV)': <cppyy.gbl.TH1F object at 0x555e03e55280>}"
      ]
     },
     "execution_count": 25,
     "metadata": {},
     "output_type": "execute_result"
    }
   ],
   "source": [
    "Histos_Dictionary['z']"
   ]
  },
  {
   "cell_type": "code",
   "execution_count": 26,
   "id": "2fed2631-fc82-4199-9937-84d2996563b0",
   "metadata": {},
   "outputs": [],
   "source": [
    "root_analysis.write_root_file(file_name= 'Histos_z.root', dict_Hist= Histos_Dictionary['z'])"
   ]
  },
  {
   "cell_type": "markdown",
   "id": "1ce3f524-886b-4b3f-8270-54b3436436d1",
   "metadata": {},
   "source": [
    "**Note:** We can not use the function directly with Histos_Dictionary because Histos_Dictionary is a dictionary that contains dictionary, and the parameter of the function must be a dictionary of histograms."
   ]
  },
  {
   "cell_type": "markdown",
   "id": "01eda913-4281-4041-a6ad-e477e55dbccd",
   "metadata": {},
   "source": [
    "**8. Read histograms in a .root file**\n",
    "\n",
    "Again, there are two options to read histograms in a .root file. You can use Uproot (In case you want, please refer to: https://github.com/Phenomenology-group-uniandes/Tutoriales_Generales/blob/main/5_Uproot_guardado_y_lectura_en_archivos_root.ipynb) or use the function **root_analysis.read_root_files()**. This function has two parameters: path_root_file (It is the path of the root file) and  expected_keys  It is a list with the names of the histograms that are expected to be in the root fil).\n",
    "\n",
    "Let us try toreadeHistos_z.root, we need to know the keys that were used to create the file initially. Of course, in this case is easy."
   ]
  },
  {
   "cell_type": "code",
   "execution_count": 27,
   "id": "87963c8a-ea00-44af-9b90-e3bd9fc61425",
   "metadata": {},
   "outputs": [
    {
     "data": {
      "text/plain": [
       "['pT_{Z}(GeV)',\n",
       " '#eta_{Z}',\n",
       " '#phi_{Z}',\n",
       " 'Energy_{Z}(GeV)',\n",
       " 'Mass_{Z}(GeV)',\n",
       " 'pT_{#mu_{1}}(GeV)',\n",
       " '#eta_{#mu_{1}}',\n",
       " '#phi_{#mu_{1}}',\n",
       " 'Energy_{#mu_{1}}(GeV)',\n",
       " '#Delta{R}_{#mu_{1}#mu_{2}}',\n",
       " '#Delta{#eta}_{#mu_{1}#mu_{2}}',\n",
       " '#Delta{#phi}_{#mu_{1}#mu_{2}}',\n",
       " '#Delta{pT}_{#mu_{1}#mu_{2}}(GeV)',\n",
       " '#Delta{#vec{pT}}_{#mu_{1}#mu_{2}}(GeV)',\n",
       " '#Delta{#vec{p}}_{#mu_{1}#mu_{2}}(GeV)',\n",
       " 'pT_{#mu_{2}}(GeV)',\n",
       " '#eta_{#mu_{2}}',\n",
       " '#phi_{#mu_{2}}',\n",
       " 'Energy_{#mu_{2}}(GeV)']"
      ]
     },
     "execution_count": 27,
     "metadata": {},
     "output_type": "execute_result"
    }
   ],
   "source": [
    "list(Histos_Dictionary['z'].keys())"
   ]
  },
  {
   "cell_type": "markdown",
   "id": "75605355-7ffa-41dd-a4d6-48ceaabe4215",
   "metadata": {},
   "source": [
    "However, if we do not remember the keys we can use the function **root_analysis.get_root_file_keys()**:"
   ]
  },
  {
   "cell_type": "code",
   "execution_count": 28,
   "id": "051ded04-3d77-4e84-9d9a-465a613db65f",
   "metadata": {},
   "outputs": [],
   "source": [
    "Keys = root_analysis.get_root_file_keys('Histos_z.root')"
   ]
  },
  {
   "cell_type": "code",
   "execution_count": 29,
   "id": "fbb263dc-2fb9-4754-93cb-61d6b84b6417",
   "metadata": {},
   "outputs": [
    {
     "data": {
      "text/plain": [
       "['pT_{Z}(GeV)',\n",
       " '#eta_{Z}',\n",
       " '#phi_{Z}',\n",
       " 'Energy_{Z}(GeV)',\n",
       " 'Mass_{Z}(GeV)',\n",
       " 'pT_{#mu_{1}}(GeV)',\n",
       " '#eta_{#mu_{1}}',\n",
       " '#phi_{#mu_{1}}',\n",
       " 'Energy_{#mu_{1}}(GeV)',\n",
       " '#Delta{R}_{#mu_{1}#mu_{2}}',\n",
       " '#Delta{#eta}_{#mu_{1}#mu_{2}}',\n",
       " '#Delta{#phi}_{#mu_{1}#mu_{2}}',\n",
       " '#Delta{pT}_{#mu_{1}#mu_{2}}(GeV)',\n",
       " '#Delta{#vec{pT}}_{#mu_{1}#mu_{2}}(GeV)',\n",
       " '#Delta{#vec{p}}_{#mu_{1}#mu_{2}}(GeV)',\n",
       " 'pT_{#mu_{2}}(GeV)',\n",
       " '#eta_{#mu_{2}}',\n",
       " '#phi_{#mu_{2}}',\n",
       " 'Energy_{#mu_{2}}(GeV)']"
      ]
     },
     "execution_count": 29,
     "metadata": {},
     "output_type": "execute_result"
    }
   ],
   "source": [
    "Keys"
   ]
  },
  {
   "cell_type": "markdown",
   "id": "eba80c0b-5647-4683-83ea-e1488596672f",
   "metadata": {},
   "source": [
    "Now, if you know the keys it is enough to use the function **root_analysis.read_root_file()**"
   ]
  },
  {
   "cell_type": "code",
   "execution_count": 30,
   "id": "8afac036-d488-44fd-b56c-da2b0f4c08d6",
   "metadata": {},
   "outputs": [
    {
     "data": {
      "text/plain": [
       "{'pT_{Z}(GeV)': <cppyy.gbl.TH1F object at 0x555e04440580>,\n",
       " '#eta_{Z}': <cppyy.gbl.TH1F object at 0x555e046129b0>,\n",
       " '#phi_{Z}': <cppyy.gbl.TH1F object at 0x555e04445c60>,\n",
       " 'Energy_{Z}(GeV)': <cppyy.gbl.TH1F object at 0x555e0444e040>,\n",
       " 'Mass_{Z}(GeV)': <cppyy.gbl.TH1F object at 0x555e04437670>,\n",
       " 'pT_{#mu_{1}}(GeV)': <cppyy.gbl.TH1F object at 0x555e0420d790>,\n",
       " '#eta_{#mu_{1}}': <cppyy.gbl.TH1F object at 0x555e0457ac40>,\n",
       " '#phi_{#mu_{1}}': <cppyy.gbl.TH1F object at 0x555e045f8c10>,\n",
       " 'Energy_{#mu_{1}}(GeV)': <cppyy.gbl.TH1F object at 0x555e045ea160>,\n",
       " '#Delta{R}_{#mu_{1}#mu_{2}}': <cppyy.gbl.TH1F object at 0x555e0461f0f0>,\n",
       " '#Delta{#eta}_{#mu_{1}#mu_{2}}': <cppyy.gbl.TH1F object at 0x555e045fd310>,\n",
       " '#Delta{#phi}_{#mu_{1}#mu_{2}}': <cppyy.gbl.TH1F object at 0x555e046113b0>,\n",
       " '#Delta{pT}_{#mu_{1}#mu_{2}}(GeV)': <cppyy.gbl.TH1F object at 0x555e0460e4c0>,\n",
       " '#Delta{#vec{pT}}_{#mu_{1}#mu_{2}}(GeV)': <cppyy.gbl.TH1F object at 0x555e0460dc40>,\n",
       " '#Delta{#vec{p}}_{#mu_{1}#mu_{2}}(GeV)': <cppyy.gbl.TH1F object at 0x555e0460e030>,\n",
       " 'pT_{#mu_{2}}(GeV)': <cppyy.gbl.TH1F object at 0x555e045faca0>,\n",
       " '#eta_{#mu_{2}}': <cppyy.gbl.TH1F object at 0x555e045fa280>,\n",
       " '#phi_{#mu_{2}}': <cppyy.gbl.TH1F object at 0x555e045fa6b0>,\n",
       " 'Energy_{#mu_{2}}(GeV)': <cppyy.gbl.TH1F object at 0x555e04605ee0>}"
      ]
     },
     "execution_count": 30,
     "metadata": {},
     "output_type": "execute_result"
    }
   ],
   "source": [
    "root_analysis.read_root_file(path_root_file= 'Histos_z.root', expected_keys= Keys)"
   ]
  }
 ],
 "metadata": {
  "kernelspec": {
   "display_name": "Python 3 (ipykernel)",
   "language": "python",
   "name": "python3"
  },
  "language_info": {
   "codemirror_mode": {
    "name": "ipython",
    "version": 3
   },
   "file_extension": ".py",
   "mimetype": "text/x-python",
   "name": "python",
   "nbconvert_exporter": "python",
   "pygments_lexer": "ipython3",
   "version": "3.9.4"
  }
 },
 "nbformat": 4,
 "nbformat_minor": 5
}
