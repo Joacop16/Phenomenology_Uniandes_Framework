{
 "cells": [
  {
   "cell_type": "markdown",
   "id": "ae5e53b8-6e43-4d91-a9ad-57d51d939d7b",
   "metadata": {},
   "source": [
    "$$\\textrm{Joaquin Peñuela Parra}$$\n",
    "$$\\textrm{Universidad de los Andes}$$\n",
    "$$\\textrm{Grupo de Física de Altas Energías: Fenomenología de Partículas}$$\n",
    "\n",
    "This code was running in the Docker.\n",
    "\n",
    "$\\textbf{Preliminaries}$ \n",
    "\n",
    "The libraries used here are:"
   ]
  },
  {
   "cell_type": "code",
   "execution_count": 1,
   "id": "1ef13431-2ebf-472b-9e2f-6b9bf9e23234",
   "metadata": {},
   "outputs": [],
   "source": [
    "import os, sys\n",
    "sys.path.append(os.path.dirname(os.getcwd()))"
   ]
  },
  {
   "cell_type": "code",
   "execution_count": 27,
   "id": "ef4662c6-7ea4-4e78-b843-79b1a5100e66",
   "metadata": {},
   "outputs": [],
   "source": [
    "from delphes_reader import DelphesLoader #Class that allow us to access to all paths of delphes files inside the server.\n",
    "from delphes_reader import clasificator #It contains functions to classify particles.\n",
    "from delphes_reader import root_analysis #It contains some useful functions like make_histograms or get_kinematics_row.\n",
    "from delphes_reader import Quiet #Context manager for silencing certain ROOT operations.\n",
    "\n",
    "from ROOT import TChain #It is necessary to read .root files\n",
    "\n",
    "import pandas as pd #Python library usefull to data science"
   ]
  },
  {
   "cell_type": "markdown",
   "id": "c83499a2-bace-48ab-931c-d0a30bf70124",
   "metadata": {},
   "source": [
    "With the objective of learn how to use Uniandes_Framework we will reconstruct Z Boson Mass:"
   ]
  },
  {
   "cell_type": "markdown",
   "id": "c1961712-56b3-4812-b338-c308bc50b132",
   "metadata": {},
   "source": [
    "**1. Get delphes files (.root) paths.**\n",
    "\n",
    "First, we have to get delphes files paths of the signal. In this case, Z Boson. In order to to this, we can use DelphesLoader."
   ]
  },
  {
   "cell_type": "code",
   "execution_count": 3,
   "id": "ccb937bd-013b-44b0-ac65-4db2c39519b2",
   "metadata": {},
   "outputs": [
    {
     "name": "stdout",
     "output_type": "stream",
     "text": [
      "Z_Tutorial imported with 6 trees!\n",
      "/disco4/personal_folders/Joaquin/Uniandes_Framework_Z_Data_Tutorial\n"
     ]
    },
    {
     "data": {
      "text/plain": [
       "['/disco4/personal_folders/Joaquin/Uniandes_Framework_Z_Data_Tutorial/Events/run_01/tag_1_delphes_events.root',\n",
       " '/disco4/personal_folders/Joaquin/Uniandes_Framework_Z_Data_Tutorial/Events/run_02/tag_1_delphes_events.root',\n",
       " '/disco4/personal_folders/Joaquin/Uniandes_Framework_Z_Data_Tutorial/Events/run_03/tag_1_delphes_events.root',\n",
       " '/disco4/personal_folders/Joaquin/Uniandes_Framework_Z_Data_Tutorial/Events/run_04/tag_1_delphes_events.root',\n",
       " '/disco4/personal_folders/Joaquin/Uniandes_Framework_Z_Data_Tutorial/Events/run_05/tag_1_delphes_events.root',\n",
       " '/disco4/personal_folders/Joaquin/Uniandes_Framework_Z_Data_Tutorial/Events/run_06/tag_1_delphes_events.root']"
      ]
     },
     "execution_count": 3,
     "metadata": {},
     "output_type": "execute_result"
    }
   ],
   "source": [
    "DelphesLoader('Z_Tutorial').Forest"
   ]
  },
  {
   "cell_type": "markdown",
   "id": "fa4f528a-dfab-4e52-906d-852b0ec59da1",
   "metadata": {},
   "source": [
    "These are all the root files of Z in the server. Now, save this list in a variable named Path_Signal:"
   ]
  },
  {
   "cell_type": "code",
   "execution_count": 4,
   "id": "0313bc5c-df63-4063-a5a6-99ca8ef84dcc",
   "metadata": {},
   "outputs": [
    {
     "name": "stdout",
     "output_type": "stream",
     "text": [
      "Z_Tutorial imported with 6 trees!\n",
      "/disco4/personal_folders/Joaquin/Uniandes_Framework_Z_Data_Tutorial\n"
     ]
    }
   ],
   "source": [
    "Paths_Signal = DelphesLoader('Z_Tutorial').Forest"
   ]
  },
  {
   "cell_type": "markdown",
   "id": "f52a5473-a865-422b-8bfb-17d039f0f5cb",
   "metadata": {},
   "source": [
    "Now, se have to get delphes files paths of the background. For simplicity we will consider just 'ww', 'ttbar', 'stop' as background:"
   ]
  },
  {
   "cell_type": "code",
   "execution_count": 5,
   "id": "70f98e3f-4867-4cf6-8545-60da2d6030d9",
   "metadata": {},
   "outputs": [
    {
     "name": "stdout",
     "output_type": "stream",
     "text": [
      "ww imported with 250 trees!\n",
      "/Madgraph_Simulations/SM_Backgrounds/ww/\n",
      "ttbar imported with 500 trees!\n",
      "/Madgraph_Simulations/SM_Backgrounds/ttbar/\n",
      "stop imported with 232 trees!\n",
      "/Madgraph_Simulations/SM_Backgrounds/stop\n"
     ]
    }
   ],
   "source": [
    "Paths_WW = DelphesLoader('ww').Forest[:6] \n",
    "Paths_ttbar = DelphesLoader('ttbar').Forest[:6]\n",
    "Paths_stop = DelphesLoader('stop').Forest[:6]"
   ]
  },
  {
   "cell_type": "markdown",
   "id": "f3aa2b97-de98-4648-8e9d-9cd415cafe40",
   "metadata": {},
   "source": [
    "We can save all of those paths (signal and bkg) in a directory:"
   ]
  },
  {
   "cell_type": "code",
   "execution_count": 6,
   "id": "adbe3dcc-58ce-4e64-8d3e-98aad89be563",
   "metadata": {},
   "outputs": [],
   "source": [
    "Paths = {'z':Paths_Signal, 'ww': Paths_WW, 'ttbar': Paths_ttbar, 'stop': Paths_stop}"
   ]
  },
  {
   "cell_type": "code",
   "execution_count": 7,
   "id": "205c3842-1140-49f1-b8b5-f7676deda2c9",
   "metadata": {},
   "outputs": [
    {
     "data": {
      "text/plain": [
       "{'z': ['/disco4/personal_folders/Joaquin/Uniandes_Framework_Z_Data_Tutorial/Events/run_01/tag_1_delphes_events.root',\n",
       "  '/disco4/personal_folders/Joaquin/Uniandes_Framework_Z_Data_Tutorial/Events/run_02/tag_1_delphes_events.root',\n",
       "  '/disco4/personal_folders/Joaquin/Uniandes_Framework_Z_Data_Tutorial/Events/run_03/tag_1_delphes_events.root',\n",
       "  '/disco4/personal_folders/Joaquin/Uniandes_Framework_Z_Data_Tutorial/Events/run_04/tag_1_delphes_events.root',\n",
       "  '/disco4/personal_folders/Joaquin/Uniandes_Framework_Z_Data_Tutorial/Events/run_05/tag_1_delphes_events.root',\n",
       "  '/disco4/personal_folders/Joaquin/Uniandes_Framework_Z_Data_Tutorial/Events/run_06/tag_1_delphes_events.root'],\n",
       " 'ww': ['/Madgraph_Simulations/SM_Backgrounds/ww/ww_1/Events/run_01/m_delphes_events.root',\n",
       "  '/Madgraph_Simulations/SM_Backgrounds/ww/ww_2/Events/run_01/m_delphes_events.root',\n",
       "  '/Madgraph_Simulations/SM_Backgrounds/ww/ww_3/Events/run_01/m_delphes_events.root',\n",
       "  '/Madgraph_Simulations/SM_Backgrounds/ww/ww_4/Events/run_01/m_delphes_events.root',\n",
       "  '/Madgraph_Simulations/SM_Backgrounds/ww/ww_5/Events/run_01/m_delphes_events.root',\n",
       "  '/Madgraph_Simulations/SM_Backgrounds/ww/ww_6/Events/run_01/m_delphes_events.root'],\n",
       " 'ttbar': ['/Madgraph_Simulations/SM_Backgrounds/ttbar/ttbar_1/Events/run_01/m_delphes_events.root',\n",
       "  '/Madgraph_Simulations/SM_Backgrounds/ttbar/ttbar_2/Events/run_01/m_delphes_events.root',\n",
       "  '/Madgraph_Simulations/SM_Backgrounds/ttbar/ttbar_3/Events/run_01/m_delphes_events.root',\n",
       "  '/Madgraph_Simulations/SM_Backgrounds/ttbar/ttbar_4/Events/run_01/m_delphes_events.root',\n",
       "  '/Madgraph_Simulations/SM_Backgrounds/ttbar/ttbar_5/Events/run_01/m_delphes_events.root',\n",
       "  '/Madgraph_Simulations/SM_Backgrounds/ttbar/ttbar_6/Events/run_01/m_delphes_events.root'],\n",
       " 'stop': ['/Madgraph_Simulations/SM_Backgrounds/stop/Events/run_01/tag_1_delphes_events.root',\n",
       "  '/Madgraph_Simulations/SM_Backgrounds/stop/Events/run_02/tag_1_delphes_events.root',\n",
       "  '/Madgraph_Simulations/SM_Backgrounds/stop/Events/run_03/tag_1_delphes_events.root',\n",
       "  '/Madgraph_Simulations/SM_Backgrounds/stop/Events/run_04/tag_1_delphes_events.root',\n",
       "  '/Madgraph_Simulations/SM_Backgrounds/stop/Events/run_05/tag_1_delphes_events.root',\n",
       "  '/Madgraph_Simulations/SM_Backgrounds/stop/Events/run_06/tag_1_delphes_events.root']}"
      ]
     },
     "execution_count": 7,
     "metadata": {},
     "output_type": "execute_result"
    }
   ],
   "source": [
    "Paths"
   ]
  },
  {
   "cell_type": "markdown",
   "id": "647c93af-cedf-4339-90bc-8a978c36aa2a",
   "metadata": {},
   "source": [
    "In this point we can access to all delphes file paths."
   ]
  },
  {
   "cell_type": "markdown",
   "id": "397af51d-0b39-4a5f-a2c6-8a2de8d2df56",
   "metadata": {},
   "source": [
    "**2. Extract information from root files to create .CSV files:**\n",
    "\n",
    "In order to do this, we have to read those .root files. \n",
    "\n",
    "If we wanto to read .root files of signal we have to do the following code:"
   ]
  },
  {
   "cell_type": "code",
   "execution_count": 8,
   "id": "20e05c53-7819-4d6d-8a78-0fc4787e62ee",
   "metadata": {},
   "outputs": [],
   "source": [
    "with Quiet(): #Context manager for silencing certain ROOT operations.\n",
    "    \n",
    "    for Path in Paths['z']: #Paths[z] is the list with the delphes file paths of signal\n",
    "\n",
    "        #To read a .root file we have to create a Tree in ROOT and associate to it the .root file path\n",
    "        tree = TChain(\"Delphes;1\") #Empty Tree of ROOT\n",
    "        tree.Add(Path) #Now we associate Tree with the path of a .root file\n",
    "\n",
    "        #In this point we have to go over all events in the tree, so:\n",
    "        for event in tree:\n",
    "            #Here is where we will use Uniandes_Framework to extract information.\n",
    "            break\n",
    "        break"
   ]
  },
  {
   "cell_type": "markdown",
   "id": "88458bb2-349c-46b2-b98a-50b324d149b0",
   "metadata": {},
   "source": [
    "This is a very simple code. Before reconstruy Z Boson, we can use Uniandes_Framework to extract muons and electron particles and test some framwork's functions:"
   ]
  },
  {
   "cell_type": "code",
   "execution_count": 9,
   "id": "6f803799-8e76-4972-9125-b58e7f86af3d",
   "metadata": {},
   "outputs": [],
   "source": [
    "#We have to create a directory to save the muons and the electrons.\n",
    "Dictionary = {}\n",
    "\n",
    "with Quiet(): #Context manager for silencing certain ROOT operations.\n",
    "    \n",
    "    for Path in Paths['z']: #Paths[z] is the list with the delphes file paths of signal\n",
    "        \n",
    "        Dictionary['muon'] = [] #We have to create a list for muons.\n",
    "        Dictionary['electron'] = [] #We have to create a list for muons.\n",
    "            \n",
    "        #To read a .root file we have to create a Tree in ROOT and associate to it the .root file path\n",
    "        tree = TChain(\"Delphes;1\") #Empty Tree of ROOT\n",
    "        tree.Add(Path) #Now we associate Tree with the path of a .root file\n",
    "\n",
    "        #In this point we have to go over all events in the tree, so:\n",
    "        for event in tree:\n",
    "            #Here is where we will use Uniandes_Framework to extract information.\n",
    "\n",
    "            for particle in clasificator.get_muons(event): #clasificator.get_muons(event) is a list with muons in the event\n",
    "                Dictionary['muon'].append(particle)\n",
    "                \n",
    "            for particle in clasificator.get_electrons(event): #clasificator.get_electrons(event) is a list with electrons in the event\n",
    "                Dictionary['electron'].append(particle)                \n",
    "        break"
   ]
  },
  {
   "cell_type": "code",
   "execution_count": 10,
   "id": "ec1a70e3-4989-415e-b28a-16b582111db4",
   "metadata": {},
   "outputs": [
    {
     "data": {
      "text/plain": [
       "dict_keys(['muon', 'electron'])"
      ]
     },
     "execution_count": 10,
     "metadata": {},
     "output_type": "execute_result"
    }
   ],
   "source": [
    "Dictionary.keys()"
   ]
  },
  {
   "cell_type": "markdown",
   "id": "24877097-1cf7-4874-a12d-5c5c4e6d955b",
   "metadata": {},
   "source": [
    "What contain Dictionary['muons'] and Dictionary['electrons']?"
   ]
  },
  {
   "cell_type": "code",
   "execution_count": 11,
   "id": "2c70ef7e-2a77-4056-91da-0e863bca1ca1",
   "metadata": {},
   "outputs": [
    {
     "data": {
      "text/plain": [
       "83754"
      ]
     },
     "execution_count": 11,
     "metadata": {},
     "output_type": "execute_result"
    }
   ],
   "source": [
    "len(Dictionary['muon']) #it is a list with 83754 elements that are objects of particle class:"
   ]
  },
  {
   "cell_type": "code",
   "execution_count": 12,
   "id": "54aacce1-2d7d-405c-a6a2-3c9942c2719f",
   "metadata": {},
   "outputs": [
    {
     "data": {
      "text/plain": [
       "15"
      ]
     },
     "execution_count": 12,
     "metadata": {},
     "output_type": "execute_result"
    }
   ],
   "source": [
    "len(Dictionary['electron']) #it is a list with 15 elements that are objects of particle class:"
   ]
  },
  {
   "cell_type": "markdown",
   "id": "50258a70-7449-4a2a-8d56-c67ef1448ac6",
   "metadata": {},
   "source": [
    "We can access to all kinematic information of any particle. For example:"
   ]
  },
  {
   "cell_type": "code",
   "execution_count": 13,
   "id": "56406ab0-eb41-4e1c-9660-9be69d4251ee",
   "metadata": {},
   "outputs": [
    {
     "data": {
      "text/plain": [
       "1.0"
      ]
     },
     "execution_count": 13,
     "metadata": {},
     "output_type": "execute_result"
    }
   ],
   "source": [
    "Dictionary['muon'][0].Charge #Charge of muon 0"
   ]
  },
  {
   "cell_type": "code",
   "execution_count": 14,
   "id": "f4397854-c64f-4a19-b771-32d47328c6e1",
   "metadata": {},
   "outputs": [
    {
     "data": {
      "text/plain": [
       "12.604818344116211"
      ]
     },
     "execution_count": 14,
     "metadata": {},
     "output_type": "execute_result"
    }
   ],
   "source": [
    "Dictionary['electron'][1].pt() #Transversal momentum of electron 1"
   ]
  },
  {
   "cell_type": "code",
   "execution_count": 15,
   "id": "c804dc62-c05f-4acd-8413-a6046a21c924",
   "metadata": {},
   "outputs": [
    {
     "data": {
      "text/plain": [
       "<cppyy.gbl.TLorentzVector object at 0x563e10e36290>"
      ]
     },
     "execution_count": 15,
     "metadata": {},
     "output_type": "execute_result"
    }
   ],
   "source": [
    "Dictionary['muon'][2].GetTLV() #TLV of muon 2"
   ]
  },
  {
   "cell_type": "markdown",
   "id": "e3184901-6e27-4681-a745-a3c7ac2f37b6",
   "metadata": {},
   "source": [
    "We also can extract main kinematic variables using the function root_analysis.get_kinematics_row:"
   ]
  },
  {
   "cell_type": "code",
   "execution_count": 24,
   "id": "f2b6c8d0-22e6-44d4-b6bc-3bb09fe3a05d",
   "metadata": {},
   "outputs": [
    {
     "data": {
      "text/plain": [
       "{'pT_{#mu}(GeV)': 324.2829895019531,\n",
       " '#eta_{#mu}': -1.7759511470794684,\n",
       " '#phi_{#mu}': 2.9113738536834717,\n",
       " 'Energy_{#mu}(GeV)': 985.0449596709284,\n",
       " 'Mass_{#mu}(GeV)': 0.10565837507224943}"
      ]
     },
     "execution_count": 24,
     "metadata": {},
     "output_type": "execute_result"
    }
   ],
   "source": [
    "root_analysis.get_kinematics_row(Dictionary['muon'][0])"
   ]
  },
  {
   "cell_type": "markdown",
   "id": "c39de5e7-11a7-4825-b296-efd3520717c9",
   "metadata": {},
   "source": [
    "We can use this function to make a list of three muons for example, and create a .csv with root_analysis.generate_csv:"
   ]
  },
  {
   "cell_type": "code",
   "execution_count": 26,
   "id": "99cd2e70-58c0-4ff0-9098-f6d7d799d4ae",
   "metadata": {},
   "outputs": [],
   "source": [
    "muon_list = [root_analysis.get_kinematics_row(Dictionary['muon'][0]),\n",
    "             root_analysis.get_kinematics_row(Dictionary['muon'][1]),\n",
    "             root_analysis.get_kinematics_row(Dictionary['muon'][2]),\n",
    "             root_analysis.get_kinematics_row(Dictionary['muon'][3]),\n",
    "             root_analysis.get_kinematics_row(Dictionary['muon'][4])]\n",
    "\n",
    "root_analysis.generate_csv(muon_list, 'Data_muon.csv')"
   ]
  },
  {
   "cell_type": "code",
   "execution_count": null,
   "id": "5f08ea6c-dc68-4d12-93f6-8a75dce87c5b",
   "metadata": {},
   "outputs": [],
   "source": [
    "pd.read_csv()"
   ]
  },
  {
   "cell_type": "markdown",
   "id": "a571a830-e5ec-4005-bc3a-b16f5e283c72",
   "metadata": {},
   "source": [
    "In addition to this, if we want to get all the particles without a label it is enoug to use the following function:"
   ]
  },
  {
   "cell_type": "code",
   "execution_count": 16,
   "id": "5dcf248d-654d-4480-816d-5f5b4be5dafb",
   "metadata": {},
   "outputs": [],
   "source": [
    "Unified = clasificator.get_unified(Dictionary)"
   ]
  },
  {
   "cell_type": "code",
   "execution_count": 17,
   "id": "31d9ba70-1535-486d-9a16-264725f241e8",
   "metadata": {},
   "outputs": [
    {
     "data": {
      "text/plain": [
       "dict_keys(['all'])"
      ]
     },
     "execution_count": 17,
     "metadata": {},
     "output_type": "execute_result"
    }
   ],
   "source": [
    "Unified.keys()"
   ]
  },
  {
   "cell_type": "code",
   "execution_count": 18,
   "id": "e0377cff-bf66-4713-a70a-ff8a136a9869",
   "metadata": {},
   "outputs": [
    {
     "data": {
      "text/plain": [
       "83769"
      ]
     },
     "execution_count": 18,
     "metadata": {},
     "output_type": "execute_result"
    }
   ],
   "source": [
    "len(Unified['all']) #it is a list with 83769 elements that are objects of particle class (83754 muons and 15 electrons)"
   ]
  },
  {
   "cell_type": "markdown",
   "id": "65427991-8504-4cfc-8668-1a0150a4c3b9",
   "metadata": {},
   "source": [
    "Furthermore, if we want to extract the particles that are within the range of kinematic cuts, we can use clasificator.get_good_particles or clasificator.get_good_leptons.\n",
    "\n",
    "**It is necessary to add an example of get_good methods.**"
   ]
  },
  {
   "cell_type": "markdown",
   "id": "e4518703-572b-47bc-aaba-5021f9b850d4",
   "metadata": {},
   "source": [
    "With this in mind, now we can use Uniandes_Framework to reconstruct Z Boson:"
   ]
  },
  {
   "cell_type": "code",
   "execution_count": null,
   "id": "b9fcdddb-2410-43de-96d9-a6c13b201ebe",
   "metadata": {},
   "outputs": [],
   "source": [
    "#At First, we have to create a directory to save the z reconstructed of 'z', 'ww', 'ttbar', 'stop' signals:\n",
    "Z_reconstructed_particles = {}\n",
    "\n",
    "with Quiet(): #Context manager for silencing certain ROOT operations.\n",
    "    \n",
    "    for key in Paths.keys(): #Paths.keys are 'z', 'ww', 'ttbar', 'stop'\n",
    "        \n",
    "        Z_reconstructed_particles[key] = [] #We have to create a list for muons of each key.\n",
    "        \n",
    "        for Path in Paths[key]: #Paths[key] is the list with the delphes file paths\n",
    "            \n",
    "            #To read a .root file we have to create a Tree in ROOT and associate to it the .root file path\n",
    "            tree = TChain(\"Delphes;1\") #Empty Tree of ROOT\n",
    "            tree.Add(Path) #Now we associate Tree with the path of a .root file\n",
    "\n",
    "            #In this point we have to go over all events in the tree, so:\n",
    "            for event in tree:\n",
    "                #Here is where we will use Uniandes_Framework to extract information.\n",
    "                \n",
    "                muons = clasificator.get_muons(event): #clasificator.get_muons(event) is a list with muons in the event. \n",
    "                \n",
    "                #We need at least 2 muons in this event to reconstruct Z Boson, so:\n",
    "                if (len(muons) < 2): continue \n",
    "                \n",
    "                #How we can reconstruct Z Boson?. We have to plus the TLorentz vector of the muon pair: \n",
    "                Z = muons[0].GetTLV() + muons[1].GetTLV()\n",
    "                \n",
    "                #Z is not an object of particle class, it is a TLV. So, we can not use particle class methods.\n",
    "                \n",
    "                    \n",
    "            break\n",
    "        break"
   ]
  }
 ],
 "metadata": {
  "kernelspec": {
   "display_name": "Python 3 (ipykernel)",
   "language": "python",
   "name": "python3"
  },
  "language_info": {
   "codemirror_mode": {
    "name": "ipython",
    "version": 3
   },
   "file_extension": ".py",
   "mimetype": "text/x-python",
   "name": "python",
   "nbconvert_exporter": "python",
   "pygments_lexer": "ipython3",
   "version": "3.9.4"
  }
 },
 "nbformat": 4,
 "nbformat_minor": 5
}
