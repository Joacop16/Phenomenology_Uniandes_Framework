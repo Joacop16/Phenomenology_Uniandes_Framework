{
 "cells": [
  {
   "cell_type": "markdown",
   "id": "ae5e53b8-6e43-4d91-a9ad-57d51d939d7b",
   "metadata": {},
   "source": [
    "$$\\textrm{Joaquin Peñuela Parra}$$\n",
    "$$\\textrm{University of Los Andes}$$\n",
    "$$\\textrm{High Energy Physics Group: Phenomenology of Particles}$$\n",
    "\n",
    "This code was written to be running in Docker. If you do not have a Docker inside hep-server2 please refer to: https://github.com/Phenomenology-group-uniandes/Tutoriales_Generales\n",
    "\n",
    "$\\textbf{Preliminaries}$ \n",
    "\n",
    "The libraries used here are:"
   ]
  },
  {
   "cell_type": "code",
   "execution_count": 1,
   "id": "1ef13431-2ebf-472b-9e2f-6b9bf9e23234",
   "metadata": {},
   "outputs": [],
   "source": [
    "import os, sys\n",
    "sys.path.append(os.path.dirname(os.path.dirname(os.getcwd())))"
   ]
  },
  {
   "cell_type": "code",
   "execution_count": 2,
   "id": "ef4662c6-7ea4-4e78-b843-79b1a5100e66",
   "metadata": {},
   "outputs": [
    {
     "name": "stdout",
     "output_type": "stream",
     "text": [
      "Welcome to JupyROOT 6.22/06\n"
     ]
    }
   ],
   "source": [
    "from Uniandes_Framework.delphes_reader import DelphesLoader #The class that allows us to access all paths of delphes files inside the server.\n",
    "from Uniandes_Framework.delphes_reader import classifier #It contains functions to classify particles.\n",
    "from Uniandes_Framework.delphes_reader import root_analysis #It contains some useful functions like make_histograms or get_kinematics_row.\n",
    "from Uniandes_Framework.delphes_reader import Quiet #Context manager for silencing certain ROOT operations.\n",
    "\n",
    "from ROOT import TChain #It is necessary to read .root files.\n",
    "\n",
    "import pandas as pd #Python library is useful for data science."
   ]
  },
  {
   "cell_type": "markdown",
   "id": "c83499a2-bace-48ab-931c-d0a30bf70124",
   "metadata": {},
   "source": [
    "With the objective of learning how to use Uniandes_Framework to read delphes files, we will reconstruct Z Boson Mass for some events:"
   ]
  },
  {
   "cell_type": "markdown",
   "id": "c1961712-56b3-4812-b338-c308bc50b132",
   "metadata": {},
   "source": [
    "**1. Get delphes files (.root) paths.**\n",
    "\n",
    "First, we must get delphes file paths of the signal. In this case, the signal is Z Boson. To do this, we can use DelphesLoader."
   ]
  },
  {
   "cell_type": "code",
   "execution_count": 4,
   "id": "ccb937bd-013b-44b0-ac65-4db2c39519b2",
   "metadata": {},
   "outputs": [
    {
     "name": "stdout",
     "output_type": "stream",
     "text": [
      "Z_Tutorial imported with 6 trees!\n",
      "/disco4/personal_folders/Joaquin/Uniandes_Framework_Z_Data_Tutorial\n"
     ]
    },
    {
     "data": {
      "text/plain": [
       "['/disco4/personal_folders/Joaquin/Uniandes_Framework_Z_Data_Tutorial/Events/run_01/tag_1_delphes_events.root',\n",
       " '/disco4/personal_folders/Joaquin/Uniandes_Framework_Z_Data_Tutorial/Events/run_02/tag_1_delphes_events.root',\n",
       " '/disco4/personal_folders/Joaquin/Uniandes_Framework_Z_Data_Tutorial/Events/run_03/tag_1_delphes_events.root',\n",
       " '/disco4/personal_folders/Joaquin/Uniandes_Framework_Z_Data_Tutorial/Events/run_04/tag_1_delphes_events.root',\n",
       " '/disco4/personal_folders/Joaquin/Uniandes_Framework_Z_Data_Tutorial/Events/run_05/tag_1_delphes_events.root',\n",
       " '/disco4/personal_folders/Joaquin/Uniandes_Framework_Z_Data_Tutorial/Events/run_06/tag_1_delphes_events.root']"
      ]
     },
     "execution_count": 4,
     "metadata": {},
     "output_type": "execute_result"
    }
   ],
   "source": [
    "DelphesLoader('Z_Tutorial', os.path.join(os.path.dirname(os.getcwd()), 'SimulationsPaths.csv')).Forest"
   ]
  },
  {
   "cell_type": "markdown",
   "id": "fa4f528a-dfab-4e52-906d-852b0ec59da1",
   "metadata": {},
   "source": [
    "These are all the root files of Z on the hep-server2. Now, we can save this list in a variable named Path_Signal:"
   ]
  },
  {
   "cell_type": "code",
   "execution_count": 5,
   "id": "0313bc5c-df63-4063-a5a6-99ca8ef84dcc",
   "metadata": {},
   "outputs": [
    {
     "name": "stdout",
     "output_type": "stream",
     "text": [
      "Z_Tutorial imported with 6 trees!\n",
      "/disco4/personal_folders/Joaquin/Uniandes_Framework_Z_Data_Tutorial\n"
     ]
    }
   ],
   "source": [
    "Paths_Signal = DelphesLoader('Z_Tutorial', os.path.join(os.path.dirname(os.getcwd()), 'SimulationsPaths.csv')).Forest"
   ]
  },
  {
   "cell_type": "markdown",
   "id": "f52a5473-a865-422b-8bfb-17d039f0f5cb",
   "metadata": {},
   "source": [
    "Now, we must get delphes file paths of the background. For simplicity we will consider just 'ww', 'ttbar', 'stop' as background:"
   ]
  },
  {
   "cell_type": "code",
   "execution_count": 6,
   "id": "70f98e3f-4867-4cf6-8545-60da2d6030d9",
   "metadata": {},
   "outputs": [
    {
     "name": "stdout",
     "output_type": "stream",
     "text": [
      "ww imported with 250 trees!\n",
      "/Madgraph_Simulations/SM_Backgrounds/ww/\n",
      "ttbar imported with 500 trees!\n",
      "/Madgraph_Simulations/SM_Backgrounds/ttbar/\n",
      "stop imported with 232 trees!\n",
      "/Madgraph_Simulations/SM_Backgrounds/stop\n"
     ]
    }
   ],
   "source": [
    "Paths_WW = DelphesLoader('ww').Forest[:6] \n",
    "Paths_ttbar = DelphesLoader('ttbar').Forest[:6]\n",
    "Paths_stop = DelphesLoader('stop').Forest[:6]"
   ]
  },
  {
   "cell_type": "markdown",
   "id": "f3aa2b97-de98-4648-8e9d-9cd415cafe40",
   "metadata": {},
   "source": [
    "We can save all of those paths (signal and background) in one directory:"
   ]
  },
  {
   "cell_type": "code",
   "execution_count": 7,
   "id": "adbe3dcc-58ce-4e64-8d3e-98aad89be563",
   "metadata": {},
   "outputs": [],
   "source": [
    "Paths = {'z':Paths_Signal, 'ww': Paths_WW, 'ttbar': Paths_ttbar, 'stop': Paths_stop}"
   ]
  },
  {
   "cell_type": "code",
   "execution_count": 8,
   "id": "205c3842-1140-49f1-b8b5-f7676deda2c9",
   "metadata": {},
   "outputs": [
    {
     "data": {
      "text/plain": [
       "{'z': ['/disco4/personal_folders/Joaquin/Uniandes_Framework_Z_Data_Tutorial/Events/run_01/tag_1_delphes_events.root',\n",
       "  '/disco4/personal_folders/Joaquin/Uniandes_Framework_Z_Data_Tutorial/Events/run_02/tag_1_delphes_events.root',\n",
       "  '/disco4/personal_folders/Joaquin/Uniandes_Framework_Z_Data_Tutorial/Events/run_03/tag_1_delphes_events.root',\n",
       "  '/disco4/personal_folders/Joaquin/Uniandes_Framework_Z_Data_Tutorial/Events/run_04/tag_1_delphes_events.root',\n",
       "  '/disco4/personal_folders/Joaquin/Uniandes_Framework_Z_Data_Tutorial/Events/run_05/tag_1_delphes_events.root',\n",
       "  '/disco4/personal_folders/Joaquin/Uniandes_Framework_Z_Data_Tutorial/Events/run_06/tag_1_delphes_events.root'],\n",
       " 'ww': ['/Madgraph_Simulations/SM_Backgrounds/ww/ww_1/Events/run_01/m_delphes_events.root',\n",
       "  '/Madgraph_Simulations/SM_Backgrounds/ww/ww_2/Events/run_01/m_delphes_events.root',\n",
       "  '/Madgraph_Simulations/SM_Backgrounds/ww/ww_3/Events/run_01/m_delphes_events.root',\n",
       "  '/Madgraph_Simulations/SM_Backgrounds/ww/ww_4/Events/run_01/m_delphes_events.root',\n",
       "  '/Madgraph_Simulations/SM_Backgrounds/ww/ww_5/Events/run_01/m_delphes_events.root',\n",
       "  '/Madgraph_Simulations/SM_Backgrounds/ww/ww_6/Events/run_01/m_delphes_events.root'],\n",
       " 'ttbar': ['/Madgraph_Simulations/SM_Backgrounds/ttbar/ttbar_1/Events/run_01/m_delphes_events.root',\n",
       "  '/Madgraph_Simulations/SM_Backgrounds/ttbar/ttbar_2/Events/run_01/m_delphes_events.root',\n",
       "  '/Madgraph_Simulations/SM_Backgrounds/ttbar/ttbar_3/Events/run_01/m_delphes_events.root',\n",
       "  '/Madgraph_Simulations/SM_Backgrounds/ttbar/ttbar_4/Events/run_01/m_delphes_events.root',\n",
       "  '/Madgraph_Simulations/SM_Backgrounds/ttbar/ttbar_5/Events/run_01/m_delphes_events.root',\n",
       "  '/Madgraph_Simulations/SM_Backgrounds/ttbar/ttbar_6/Events/run_01/m_delphes_events.root'],\n",
       " 'stop': ['/Madgraph_Simulations/SM_Backgrounds/stop/Events/run_01/tag_1_delphes_events.root',\n",
       "  '/Madgraph_Simulations/SM_Backgrounds/stop/Events/run_02/tag_1_delphes_events.root',\n",
       "  '/Madgraph_Simulations/SM_Backgrounds/stop/Events/run_03/tag_1_delphes_events.root',\n",
       "  '/Madgraph_Simulations/SM_Backgrounds/stop/Events/run_04/tag_1_delphes_events.root',\n",
       "  '/Madgraph_Simulations/SM_Backgrounds/stop/Events/run_05/tag_1_delphes_events.root',\n",
       "  '/Madgraph_Simulations/SM_Backgrounds/stop/Events/run_06/tag_1_delphes_events.root']}"
      ]
     },
     "execution_count": 8,
     "metadata": {},
     "output_type": "execute_result"
    }
   ],
   "source": [
    "Paths"
   ]
  },
  {
   "cell_type": "markdown",
   "id": "647c93af-cedf-4339-90bc-8a978c36aa2a",
   "metadata": {},
   "source": [
    "At this point, we can access all delphes file paths."
   ]
  },
  {
   "cell_type": "markdown",
   "id": "397af51d-0b39-4a5f-a2c6-8a2de8d2df56",
   "metadata": {},
   "source": [
    "**2. Extract information from root files to create .CSV files:**\n",
    "\n",
    "To do this, we have to read those .root files. \n",
    "\n",
    "If we want to read .root files of signal we have to run the following code:"
   ]
  },
  {
   "cell_type": "code",
   "execution_count": 9,
   "id": "20e05c53-7819-4d6d-8a78-0fc4787e62ee",
   "metadata": {},
   "outputs": [],
   "source": [
    "with Quiet(): #Context manager for silencing certain ROOT operations.\n",
    "    \n",
    "    for Path in Paths['z']: #Paths[z] is the list with the paths of signal z.\n",
    "\n",
    "        #To read a .root file we have to create a Tree in ROOT and associate it the path.\n",
    "        tree = TChain(\"Delphes;1\") #Empty TChain of ROOT.\n",
    "        tree.Add(Path) #Now we associate tree with the path of a .root file.\n",
    "\n",
    "        #At this point we must go over all events in the tree, so:\n",
    "        for event in tree:\n",
    "            #Here is where we will use Uniandes_Framework to extract information\n",
    "            break\n",
    "        break"
   ]
  },
  {
   "cell_type": "markdown",
   "id": "88458bb2-349c-46b2-b98a-50b324d149b0",
   "metadata": {},
   "source": [
    "This is a very simple code. Before reconstruy Z Boson, we can use Uniandes_Framework to extract muons and electron particles and test some framwork's functions:"
   ]
  },
  {
   "cell_type": "code",
   "execution_count": 12,
   "id": "6f803799-8e76-4972-9125-b58e7f86af3d",
   "metadata": {},
   "outputs": [],
   "source": [
    "#We have to create a directory to save the muons and the electrons.\n",
    "Dictionary = {}\n",
    "\n",
    "with Quiet(): #Context manager for silencing certain ROOT operations.\n",
    "    \n",
    "    for Path in Paths['z']: #Paths[z] is the list with the paths of signal z.\n",
    "        \n",
    "        Dictionary['muon'] = [] #We have to create a list for muons.\n",
    "        Dictionary['electron'] = [] #We have to create a list for muons.\n",
    "            \n",
    "        #To read a .root file we have to create a Tree in ROOT and associate it the path.\n",
    "        tree = TChain(\"Delphes;1\") #Empty TChain of ROOT.\n",
    "        tree.Add(Path) #Now we associate tree with the path of a .root file.\n",
    "\n",
    "        #At this point we must go over all events in the tree, so:\n",
    "        for event in tree:\n",
    "            #Now we can use Uniandes_Framework to extract information:\n",
    "\n",
    "            for particle in classifier.get_muons(event): #clasificator.get_muons(event) is a list with muons in the event\n",
    "                Dictionary['muon'].append(particle)\n",
    "                \n",
    "            for particle in classifier.get_electrons(event): #clasificator.get_electrons(event) is a list with electrons in the event\n",
    "                Dictionary['electron'].append(particle)                \n",
    "        break"
   ]
  },
  {
   "cell_type": "code",
   "execution_count": 13,
   "id": "ec1a70e3-4989-415e-b28a-16b582111db4",
   "metadata": {},
   "outputs": [
    {
     "data": {
      "text/plain": [
       "dict_keys(['muon', 'electron'])"
      ]
     },
     "execution_count": 13,
     "metadata": {},
     "output_type": "execute_result"
    }
   ],
   "source": [
    "Dictionary.keys()"
   ]
  },
  {
   "cell_type": "markdown",
   "id": "24877097-1cf7-4874-a12d-5c5c4e6d955b",
   "metadata": {},
   "source": [
    "**What contain Dictionary['muons'] and Dictionary['electrons']?**"
   ]
  },
  {
   "cell_type": "code",
   "execution_count": 14,
   "id": "2c70ef7e-2a77-4056-91da-0e863bca1ca1",
   "metadata": {},
   "outputs": [
    {
     "data": {
      "text/plain": [
       "83754"
      ]
     },
     "execution_count": 14,
     "metadata": {},
     "output_type": "execute_result"
    }
   ],
   "source": [
    "len(Dictionary['muon']) #It is a list with 83754 elements that are objects of particle class."
   ]
  },
  {
   "cell_type": "code",
   "execution_count": 15,
   "id": "54aacce1-2d7d-405c-a6a2-3c9942c2719f",
   "metadata": {},
   "outputs": [
    {
     "data": {
      "text/plain": [
       "15"
      ]
     },
     "execution_count": 15,
     "metadata": {},
     "output_type": "execute_result"
    }
   ],
   "source": [
    "len(Dictionary['electron']) #It is a list with 15 elements that are objects of particle class."
   ]
  },
  {
   "cell_type": "markdown",
   "id": "50258a70-7449-4a2a-8d56-c67ef1448ac6",
   "metadata": {},
   "source": [
    "We can access all kinematic information of any particle. \n",
    "\n",
    "**For example:**"
   ]
  },
  {
   "cell_type": "code",
   "execution_count": 16,
   "id": "56406ab0-eb41-4e1c-9660-9be69d4251ee",
   "metadata": {},
   "outputs": [
    {
     "data": {
      "text/plain": [
       "1.0"
      ]
     },
     "execution_count": 16,
     "metadata": {},
     "output_type": "execute_result"
    }
   ],
   "source": [
    "Dictionary['muon'][0].Charge #Charge of muon 0."
   ]
  },
  {
   "cell_type": "code",
   "execution_count": 18,
   "id": "f4397854-c64f-4a19-b771-32d47328c6e1",
   "metadata": {},
   "outputs": [
    {
     "data": {
      "text/plain": [
       "12.604818344116211"
      ]
     },
     "execution_count": 18,
     "metadata": {},
     "output_type": "execute_result"
    }
   ],
   "source": [
    "Dictionary['electron'][1].pt #Transversal momentum of electron 1."
   ]
  },
  {
   "cell_type": "code",
   "execution_count": 19,
   "id": "c804dc62-c05f-4acd-8413-a6046a21c924",
   "metadata": {},
   "outputs": [
    {
     "data": {
      "text/plain": [
       "<cppyy.gbl.TLorentzVector object at 0x559cf3d6cfe0>"
      ]
     },
     "execution_count": 19,
     "metadata": {},
     "output_type": "execute_result"
    }
   ],
   "source": [
    "Dictionary['muon'][2].GetTLV() #TLV of muon 2."
   ]
  },
  {
   "cell_type": "markdown",
   "id": "e3184901-6e27-4681-a745-a3c7ac2f37b6",
   "metadata": {},
   "source": [
    "We can also extract main kinematic variables using the function **root_analysis.get_kinematics_row**:"
   ]
  },
  {
   "cell_type": "code",
   "execution_count": 20,
   "id": "f2b6c8d0-22e6-44d4-b6bc-3bb09fe3a05d",
   "metadata": {},
   "outputs": [
    {
     "data": {
      "text/plain": [
       "{'pT_{#mu}(GeV)': 44.94038009643555,\n",
       " '#eta_{#mu}': 0.43652093410491943,\n",
       " '#phi_{#mu}': 0.8590125441551208,\n",
       " 'Energy_{#mu}(GeV)': 49.290623314775004,\n",
       " 'Mass_{#mu}(GeV))': 0.10565837550264347}"
      ]
     },
     "execution_count": 20,
     "metadata": {},
     "output_type": "execute_result"
    }
   ],
   "source": [
    "root_analysis.get_kinematics_row([Dictionary['muon'][0]])"
   ]
  },
  {
   "cell_type": "markdown",
   "id": "c39de5e7-11a7-4825-b296-efd3520717c9",
   "metadata": {},
   "source": [
    "We can use this function to make a list of five muons (for example) and create a .csv with **root_analysis.generate_csv:**"
   ]
  },
  {
   "cell_type": "code",
   "execution_count": 23,
   "id": "99cd2e70-58c0-4ff0-9098-f6d7d799d4ae",
   "metadata": {},
   "outputs": [],
   "source": [
    "muon_list = [root_analysis.get_kinematics_row([Dictionary['muon'][0]]),\n",
    "             root_analysis.get_kinematics_row([Dictionary['muon'][1]]),\n",
    "             root_analysis.get_kinematics_row([Dictionary['muon'][2]]),\n",
    "             root_analysis.get_kinematics_row([Dictionary['muon'][3]]),\n",
    "             root_analysis.get_kinematics_row([Dictionary['muon'][4]])]\n",
    "\n",
    "root_analysis.generate_csv(muon_list, 'Data_muon.csv')"
   ]
  },
  {
   "cell_type": "code",
   "execution_count": 24,
   "id": "5f08ea6c-dc68-4d12-93f6-8a75dce87c5b",
   "metadata": {},
   "outputs": [
    {
     "data": {
      "text/html": [
       "<div>\n",
       "<style scoped>\n",
       "    .dataframe tbody tr th:only-of-type {\n",
       "        vertical-align: middle;\n",
       "    }\n",
       "\n",
       "    .dataframe tbody tr th {\n",
       "        vertical-align: top;\n",
       "    }\n",
       "\n",
       "    .dataframe thead th {\n",
       "        text-align: right;\n",
       "    }\n",
       "</style>\n",
       "<table border=\"1\" class=\"dataframe\">\n",
       "  <thead>\n",
       "    <tr style=\"text-align: right;\">\n",
       "      <th></th>\n",
       "      <th>pT_{#mu}(GeV)</th>\n",
       "      <th>#eta_{#mu}</th>\n",
       "      <th>#phi_{#mu}</th>\n",
       "      <th>Energy_{#mu}(GeV)</th>\n",
       "      <th>Mass_{#mu}(GeV))</th>\n",
       "    </tr>\n",
       "  </thead>\n",
       "  <tbody>\n",
       "    <tr>\n",
       "      <th>0</th>\n",
       "      <td>44.940380</td>\n",
       "      <td>0.436521</td>\n",
       "      <td>0.859013</td>\n",
       "      <td>49.290623</td>\n",
       "      <td>0.105658</td>\n",
       "    </tr>\n",
       "    <tr>\n",
       "      <th>1</th>\n",
       "      <td>44.830154</td>\n",
       "      <td>-0.054870</td>\n",
       "      <td>-2.269752</td>\n",
       "      <td>44.897781</td>\n",
       "      <td>0.105658</td>\n",
       "    </tr>\n",
       "    <tr>\n",
       "      <th>2</th>\n",
       "      <td>34.239265</td>\n",
       "      <td>0.819574</td>\n",
       "      <td>-0.843353</td>\n",
       "      <td>46.396931</td>\n",
       "      <td>0.105658</td>\n",
       "    </tr>\n",
       "    <tr>\n",
       "      <th>3</th>\n",
       "      <td>30.985142</td>\n",
       "      <td>1.714897</td>\n",
       "      <td>2.103571</td>\n",
       "      <td>88.866786</td>\n",
       "      <td>0.105658</td>\n",
       "    </tr>\n",
       "    <tr>\n",
       "      <th>4</th>\n",
       "      <td>38.951763</td>\n",
       "      <td>-0.688483</td>\n",
       "      <td>2.697829</td>\n",
       "      <td>48.554083</td>\n",
       "      <td>0.105658</td>\n",
       "    </tr>\n",
       "  </tbody>\n",
       "</table>\n",
       "</div>"
      ],
      "text/plain": [
       "   pT_{#mu}(GeV)  #eta_{#mu}  #phi_{#mu}  Energy_{#mu}(GeV)  Mass_{#mu}(GeV))\n",
       "0      44.940380    0.436521    0.859013          49.290623          0.105658\n",
       "1      44.830154   -0.054870   -2.269752          44.897781          0.105658\n",
       "2      34.239265    0.819574   -0.843353          46.396931          0.105658\n",
       "3      30.985142    1.714897    2.103571          88.866786          0.105658\n",
       "4      38.951763   -0.688483    2.697829          48.554083          0.105658"
      ]
     },
     "execution_count": 24,
     "metadata": {},
     "output_type": "execute_result"
    }
   ],
   "source": [
    "pd.read_csv('Data_muon.csv')"
   ]
  },
  {
   "cell_type": "markdown",
   "id": "a571a830-e5ec-4005-bc3a-b16f5e283c72",
   "metadata": {},
   "source": [
    "In addition to this, if we want to get all the particles without a label it is enough to use the following function:"
   ]
  },
  {
   "cell_type": "code",
   "execution_count": 26,
   "id": "5dcf248d-654d-4480-816d-5f5b4be5dafb",
   "metadata": {},
   "outputs": [],
   "source": [
    "Unified = classifier.get_unified(Dictionary)"
   ]
  },
  {
   "cell_type": "code",
   "execution_count": 27,
   "id": "31d9ba70-1535-486d-9a16-264725f241e8",
   "metadata": {},
   "outputs": [
    {
     "data": {
      "text/plain": [
       "dict_keys(['all'])"
      ]
     },
     "execution_count": 27,
     "metadata": {},
     "output_type": "execute_result"
    }
   ],
   "source": [
    "Unified.keys()"
   ]
  },
  {
   "cell_type": "code",
   "execution_count": 28,
   "id": "e0377cff-bf66-4713-a70a-ff8a136a9869",
   "metadata": {},
   "outputs": [
    {
     "data": {
      "text/plain": [
       "83769"
      ]
     },
     "execution_count": 28,
     "metadata": {},
     "output_type": "execute_result"
    }
   ],
   "source": [
    "len(Unified['all']) #it is a list with 83769 elements that are objects of particle class (83754 muons + 15 electrons)."
   ]
  },
  {
   "cell_type": "markdown",
   "id": "65427991-8504-4cfc-8668-1a0150a4c3b9",
   "metadata": {},
   "source": [
    "Furthermore, if we want to extract the particles that are within the range of kinematic cuts, we can use clasificator.get_good_particles or clasificator.get_good_leptons.\n",
    "\n",
    "### It is necessary to add an example of get_good methods."
   ]
  },
  {
   "cell_type": "markdown",
   "id": "e4518703-572b-47bc-aaba-5021f9b850d4",
   "metadata": {},
   "source": [
    "With this in mind, now we can use Uniandes_Framework to reconstruct Z Boson:"
   ]
  },
  {
   "cell_type": "code",
   "execution_count": 29,
   "id": "b9fcdddb-2410-43de-96d9-a6c13b201ebe",
   "metadata": {},
   "outputs": [],
   "source": [
    "#At first, we have to create a dictionary to save the z reconstructed kinematic information of 'z', 'ww', 'ttbar', 'stop' signals:\n",
    "Z_reconstructed_particles = {}\n",
    "\n",
    "with Quiet(): #Context manager for silencing certain ROOT operations.\n",
    "    \n",
    "    for key in Paths.keys(): #Paths.keys() is ['z', 'ww', 'ttbar', 'stop']\n",
    "        \n",
    "        Z_reconstructed_particles[key] = [] #We have to create a list to save the kinematic information of z reconstructed for each key.\n",
    "        \n",
    "        for Path in Paths[key]: #Paths[key] is the list with the delphes file paths.\n",
    "            \n",
    "            #To read a .root file we have to create a Tree in ROOT and associate it the path.\n",
    "            tree = TChain(\"Delphes;1\") #Empty TChain of ROOT.\n",
    "            tree.Add(Path) #Now we associate tree with the path of a .root file.\n",
    "\n",
    "            #At this point we must go over all events in the tree, so:\n",
    "            for event in tree:\n",
    "                #Now we can use Uniandes_Framework to extract information:\n",
    "                \n",
    "                muons = classifier.get_muons(event) #clasificator.get_muons(event) is a list that contains the muons presents in the event.\n",
    "                \n",
    "                #We need at least 2 muons in this event to reconstruct Z Boson, so:\n",
    "                if (len(muons) < 2): continue \n",
    "                \n",
    "                #How we can reconstruct Z Boson? We have to sum the TLorentz vector of the muon pair: \n",
    "                Z = muons[0].GetTLV() + muons[1].GetTLV()\n",
    "                \n",
    "                #However, Z is not an object of particle class, it is a TLV. So, we can not use root_analysis.get_kinematics_row().  \n",
    "                #If we want his kinematic information we have to create the directory by ourselves:\n",
    "                Z_kinematic_information = {\"pT_{Z}(GeV)\": Z.Pt(), \n",
    "                                           \"#eta_{Z}\": Z.Eta(), \n",
    "                                           \"#phi_{Z}\": Z.Phi(), \n",
    "                                           \"Energy_{Z}(GeV)\": Z.Energy(), \n",
    "                                           \"Mass_{Z}(GeV)\" : Z.M()} \n",
    "                \n",
    "                #This directory has the same structure of an get_kinematics_row() output. \n",
    "                \n",
    "                #Finally, we can save Z_kinematic_information for each event in a list:\n",
    "                Z_reconstructed_particles[key].append(Z_kinematic_information)  \n",
    "            break\n",
    "        \n",
    "        #At this point we have Z_reconstructed_particles[key] (a list) filled with kinematic information, so we must save it:\n",
    "        root_analysis.generate_csv(Z_reconstructed_particles[key], f'Data_{key}.csv')"
   ]
  },
  {
   "cell_type": "markdown",
   "id": "d8a2ecf0-984d-4040-902a-4b2106956bff",
   "metadata": {},
   "source": [
    "So,"
   ]
  },
  {
   "cell_type": "code",
   "execution_count": 30,
   "id": "2583b91d-fe5c-4a47-bf6d-f4b5bce4ea8e",
   "metadata": {},
   "outputs": [
    {
     "data": {
      "text/html": [
       "<div>\n",
       "<style scoped>\n",
       "    .dataframe tbody tr th:only-of-type {\n",
       "        vertical-align: middle;\n",
       "    }\n",
       "\n",
       "    .dataframe tbody tr th {\n",
       "        vertical-align: top;\n",
       "    }\n",
       "\n",
       "    .dataframe thead th {\n",
       "        text-align: right;\n",
       "    }\n",
       "</style>\n",
       "<table border=\"1\" class=\"dataframe\">\n",
       "  <thead>\n",
       "    <tr style=\"text-align: right;\">\n",
       "      <th></th>\n",
       "      <th>pT_{Z}(GeV)</th>\n",
       "      <th>#eta_{Z}</th>\n",
       "      <th>#phi_{Z}</th>\n",
       "      <th>Energy_{Z}(GeV)</th>\n",
       "      <th>Mass_{Z}(GeV)</th>\n",
       "    </tr>\n",
       "  </thead>\n",
       "  <tbody>\n",
       "    <tr>\n",
       "      <th>0</th>\n",
       "      <td>0.586243</td>\n",
       "      <td>4.105814</td>\n",
       "      <td>-0.516227</td>\n",
       "      <td>94.188404</td>\n",
       "      <td>92.492126</td>\n",
       "    </tr>\n",
       "    <tr>\n",
       "      <th>1</th>\n",
       "      <td>7.118025</td>\n",
       "      <td>3.472930</td>\n",
       "      <td>0.157734</td>\n",
       "      <td>135.263718</td>\n",
       "      <td>71.500931</td>\n",
       "    </tr>\n",
       "    <tr>\n",
       "      <th>2</th>\n",
       "      <td>5.288652</td>\n",
       "      <td>-1.276501</td>\n",
       "      <td>-2.356617</td>\n",
       "      <td>91.180125</td>\n",
       "      <td>90.606090</td>\n",
       "    </tr>\n",
       "    <tr>\n",
       "      <th>3</th>\n",
       "      <td>60.005383</td>\n",
       "      <td>-2.062145</td>\n",
       "      <td>-1.451088</td>\n",
       "      <td>263.914582</td>\n",
       "      <td>110.383696</td>\n",
       "    </tr>\n",
       "    <tr>\n",
       "      <th>4</th>\n",
       "      <td>9.020801</td>\n",
       "      <td>0.276110</td>\n",
       "      <td>-1.675174</td>\n",
       "      <td>91.956740</td>\n",
       "      <td>91.478435</td>\n",
       "    </tr>\n",
       "    <tr>\n",
       "      <th>...</th>\n",
       "      <td>...</td>\n",
       "      <td>...</td>\n",
       "      <td>...</td>\n",
       "      <td>...</td>\n",
       "      <td>...</td>\n",
       "    </tr>\n",
       "    <tr>\n",
       "      <th>35043</th>\n",
       "      <td>27.772026</td>\n",
       "      <td>0.825051</td>\n",
       "      <td>1.718436</td>\n",
       "      <td>99.887920</td>\n",
       "      <td>92.470571</td>\n",
       "    </tr>\n",
       "    <tr>\n",
       "      <th>35044</th>\n",
       "      <td>6.428506</td>\n",
       "      <td>1.445851</td>\n",
       "      <td>0.975015</td>\n",
       "      <td>89.210419</td>\n",
       "      <td>88.040046</td>\n",
       "    </tr>\n",
       "    <tr>\n",
       "      <th>35045</th>\n",
       "      <td>4.249703</td>\n",
       "      <td>4.065112</td>\n",
       "      <td>-1.818581</td>\n",
       "      <td>153.700360</td>\n",
       "      <td>91.015550</td>\n",
       "    </tr>\n",
       "    <tr>\n",
       "      <th>35046</th>\n",
       "      <td>10.372905</td>\n",
       "      <td>-3.725006</td>\n",
       "      <td>2.748109</td>\n",
       "      <td>234.153640</td>\n",
       "      <td>92.252118</td>\n",
       "    </tr>\n",
       "    <tr>\n",
       "      <th>35047</th>\n",
       "      <td>5.408616</td>\n",
       "      <td>3.463250</td>\n",
       "      <td>-1.435564</td>\n",
       "      <td>123.569585</td>\n",
       "      <td>88.335398</td>\n",
       "    </tr>\n",
       "  </tbody>\n",
       "</table>\n",
       "<p>35048 rows × 5 columns</p>\n",
       "</div>"
      ],
      "text/plain": [
       "       pT_{Z}(GeV)  #eta_{Z}  #phi_{Z}  Energy_{Z}(GeV)  Mass_{Z}(GeV)\n",
       "0         0.586243  4.105814 -0.516227        94.188404      92.492126\n",
       "1         7.118025  3.472930  0.157734       135.263718      71.500931\n",
       "2         5.288652 -1.276501 -2.356617        91.180125      90.606090\n",
       "3        60.005383 -2.062145 -1.451088       263.914582     110.383696\n",
       "4         9.020801  0.276110 -1.675174        91.956740      91.478435\n",
       "...            ...       ...       ...              ...            ...\n",
       "35043    27.772026  0.825051  1.718436        99.887920      92.470571\n",
       "35044     6.428506  1.445851  0.975015        89.210419      88.040046\n",
       "35045     4.249703  4.065112 -1.818581       153.700360      91.015550\n",
       "35046    10.372905 -3.725006  2.748109       234.153640      92.252118\n",
       "35047     5.408616  3.463250 -1.435564       123.569585      88.335398\n",
       "\n",
       "[35048 rows x 5 columns]"
      ]
     },
     "execution_count": 30,
     "metadata": {},
     "output_type": "execute_result"
    }
   ],
   "source": [
    "pd.read_csv('Data_z.csv')"
   ]
  },
  {
   "cell_type": "code",
   "execution_count": 31,
   "id": "d996ad9f-4dc1-4485-bcb8-099d157f517f",
   "metadata": {
    "tags": []
   },
   "outputs": [
    {
     "data": {
      "text/html": [
       "<div>\n",
       "<style scoped>\n",
       "    .dataframe tbody tr th:only-of-type {\n",
       "        vertical-align: middle;\n",
       "    }\n",
       "\n",
       "    .dataframe tbody tr th {\n",
       "        vertical-align: top;\n",
       "    }\n",
       "\n",
       "    .dataframe thead th {\n",
       "        text-align: right;\n",
       "    }\n",
       "</style>\n",
       "<table border=\"1\" class=\"dataframe\">\n",
       "  <thead>\n",
       "    <tr style=\"text-align: right;\">\n",
       "      <th></th>\n",
       "      <th>pT_{Z}(GeV)</th>\n",
       "      <th>#eta_{Z}</th>\n",
       "      <th>#phi_{Z}</th>\n",
       "      <th>Energy_{Z}(GeV)</th>\n",
       "      <th>Mass_{Z}(GeV)</th>\n",
       "    </tr>\n",
       "  </thead>\n",
       "  <tbody>\n",
       "    <tr>\n",
       "      <th>0</th>\n",
       "      <td>41.450595</td>\n",
       "      <td>2.246616</td>\n",
       "      <td>0.309652</td>\n",
       "      <td>223.867783</td>\n",
       "      <td>104.153360</td>\n",
       "    </tr>\n",
       "    <tr>\n",
       "      <th>1</th>\n",
       "      <td>59.747003</td>\n",
       "      <td>2.090162</td>\n",
       "      <td>0.971970</td>\n",
       "      <td>295.158432</td>\n",
       "      <td>164.215993</td>\n",
       "    </tr>\n",
       "    <tr>\n",
       "      <th>2</th>\n",
       "      <td>22.288453</td>\n",
       "      <td>2.348517</td>\n",
       "      <td>-0.077184</td>\n",
       "      <td>179.500828</td>\n",
       "      <td>135.486983</td>\n",
       "    </tr>\n",
       "    <tr>\n",
       "      <th>3</th>\n",
       "      <td>39.584572</td>\n",
       "      <td>-1.851892</td>\n",
       "      <td>-0.810271</td>\n",
       "      <td>139.905349</td>\n",
       "      <td>53.625679</td>\n",
       "    </tr>\n",
       "    <tr>\n",
       "      <th>4</th>\n",
       "      <td>20.076604</td>\n",
       "      <td>-1.986348</td>\n",
       "      <td>2.568742</td>\n",
       "      <td>149.230630</td>\n",
       "      <td>129.278067</td>\n",
       "    </tr>\n",
       "    <tr>\n",
       "      <th>...</th>\n",
       "      <td>...</td>\n",
       "      <td>...</td>\n",
       "      <td>...</td>\n",
       "      <td>...</td>\n",
       "      <td>...</td>\n",
       "    </tr>\n",
       "    <tr>\n",
       "      <th>286</th>\n",
       "      <td>46.937619</td>\n",
       "      <td>-1.306490</td>\n",
       "      <td>1.418606</td>\n",
       "      <td>126.232366</td>\n",
       "      <td>85.323836</td>\n",
       "    </tr>\n",
       "    <tr>\n",
       "      <th>287</th>\n",
       "      <td>76.068378</td>\n",
       "      <td>2.201324</td>\n",
       "      <td>-0.063515</td>\n",
       "      <td>348.104478</td>\n",
       "      <td>11.246892</td>\n",
       "    </tr>\n",
       "    <tr>\n",
       "      <th>288</th>\n",
       "      <td>76.795021</td>\n",
       "      <td>1.268362</td>\n",
       "      <td>0.899658</td>\n",
       "      <td>152.407104</td>\n",
       "      <td>39.104396</td>\n",
       "    </tr>\n",
       "    <tr>\n",
       "      <th>289</th>\n",
       "      <td>71.144513</td>\n",
       "      <td>-1.671477</td>\n",
       "      <td>0.118981</td>\n",
       "      <td>236.686245</td>\n",
       "      <td>132.782604</td>\n",
       "    </tr>\n",
       "    <tr>\n",
       "      <th>290</th>\n",
       "      <td>56.764404</td>\n",
       "      <td>2.398700</td>\n",
       "      <td>-0.829080</td>\n",
       "      <td>326.237373</td>\n",
       "      <td>84.761480</td>\n",
       "    </tr>\n",
       "  </tbody>\n",
       "</table>\n",
       "<p>291 rows × 5 columns</p>\n",
       "</div>"
      ],
      "text/plain": [
       "     pT_{Z}(GeV)  #eta_{Z}  #phi_{Z}  Energy_{Z}(GeV)  Mass_{Z}(GeV)\n",
       "0      41.450595  2.246616  0.309652       223.867783     104.153360\n",
       "1      59.747003  2.090162  0.971970       295.158432     164.215993\n",
       "2      22.288453  2.348517 -0.077184       179.500828     135.486983\n",
       "3      39.584572 -1.851892 -0.810271       139.905349      53.625679\n",
       "4      20.076604 -1.986348  2.568742       149.230630     129.278067\n",
       "..           ...       ...       ...              ...            ...\n",
       "286    46.937619 -1.306490  1.418606       126.232366      85.323836\n",
       "287    76.068378  2.201324 -0.063515       348.104478      11.246892\n",
       "288    76.795021  1.268362  0.899658       152.407104      39.104396\n",
       "289    71.144513 -1.671477  0.118981       236.686245     132.782604\n",
       "290    56.764404  2.398700 -0.829080       326.237373      84.761480\n",
       "\n",
       "[291 rows x 5 columns]"
      ]
     },
     "execution_count": 31,
     "metadata": {},
     "output_type": "execute_result"
    }
   ],
   "source": [
    "pd.read_csv('Data_ww.csv')"
   ]
  },
  {
   "cell_type": "markdown",
   "id": "425198be-1997-469f-bcda-5e20cea5a34f",
   "metadata": {},
   "source": [
    "Until now we are just considering the first root file of each signal (we had a break inside the second for) to guarantee that the tutorial does not take much time of running. However, If you want to consider all the root files of each signal. It is necessary to delete the \"break\" inside the second for. This will be done in **4_Final_Project.ipynb**.\n",
    "\n",
    "**That would take a long time, of course.**"
   ]
  },
  {
   "cell_type": "code",
   "execution_count": null,
   "id": "c46868be-520c-482d-ba9d-e93fea8a2d92",
   "metadata": {},
   "outputs": [],
   "source": []
  }
 ],
 "metadata": {
  "kernelspec": {
   "display_name": "Python 3 (ipykernel)",
   "language": "python",
   "name": "python3"
  },
  "language_info": {
   "codemirror_mode": {
    "name": "ipython",
    "version": 3
   },
   "file_extension": ".py",
   "mimetype": "text/x-python",
   "name": "python",
   "nbconvert_exporter": "python",
   "pygments_lexer": "ipython3",
   "version": "3.9.4"
  }
 },
 "nbformat": 4,
 "nbformat_minor": 5
}
