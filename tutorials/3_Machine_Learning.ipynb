{
 "cells": [
  {
   "cell_type": "markdown",
   "id": "f0abaa9a-6f92-4fa3-8269-83dbc0f4939e",
   "metadata": {},
   "source": [
    "$$\\textrm{Joaquin Peñuela Parra}$$\n",
    "$$\\textrm{University of Los Andes}$$\n",
    "$$\\textrm{High Energy Physics Group: Phenomenology of Particles}$$\n",
    "\n",
    "This code was written to be running in Docker. If you do not have a Docker inside hep-server2 please refer to: https://github.com/Phenomenology-group-uniandes/Tutoriales_Generales\n",
    "\n",
    "$\\textbf{Preliminaries}$ \n",
    "\n",
    "The libraries used here are:"
   ]
  },
  {
   "cell_type": "code",
   "execution_count": 1,
   "id": "2c9b3f16-f889-4ff8-bdab-7a61f982fe08",
   "metadata": {},
   "outputs": [],
   "source": [
    "import os, sys\n",
    "sys.path.append(os.path.dirname(os.path.dirname(os.getcwd())))"
   ]
  },
  {
   "cell_type": "code",
   "execution_count": 2,
   "id": "f9034a62-5736-416d-b17c-cf627c57f0c0",
   "metadata": {},
   "outputs": [
    {
     "name": "stdout",
     "output_type": "stream",
     "text": [
      "Welcome to JupyROOT 6.26/06\n"
     ]
    }
   ],
   "source": [
    "from Uniandes_Framework.ml_tools.xgb_classifier import XGB_Classifier"
   ]
  },
  {
   "cell_type": "markdown",
   "id": "f2b52dad-21fb-49b6-b0f6-eb9a567f2358",
   "metadata": {},
   "source": [
    "Until now, we created .csv files. Now we will use it to train XGB models.\n",
    "\n",
    "**1. Define dictionaries with the paths of .csv files:**\n",
    "\n",
    "We must create a separated dictionary for signal and for background:"
   ]
  },
  {
   "cell_type": "code",
   "execution_count": 3,
   "id": "7c3f00c4-e86e-4e6b-b783-74bb7a2294c3",
   "metadata": {},
   "outputs": [],
   "source": [
    "Datasets_signal = {'z': 'Data_z.csv'}\n",
    "Datasets_bkg = {'stop': 'Data_stop.csv', 'ttbar': 'Data_ttbar.csv', 'ww': 'Data_ww.csv'}"
   ]
  },
  {
   "cell_type": "markdown",
   "id": "c7a9f8df-c3f1-43a8-b577-78cdbbd27b9d",
   "metadata": {},
   "source": [
    "Until now, we created .csv files. Now we will use it to train XGB models.\n",
    "\n",
    "**2. Create Machine Learning model:**\n",
    "\n",
    "We can create XGB model or Logistic regression model:"
   ]
  },
  {
   "cell_type": "code",
   "execution_count": null,
   "id": "c44cd0b3-f331-48f1-addb-4a31738753f5",
   "metadata": {},
   "outputs": [],
   "source": [
    "parameters={\n",
    "    \"n_estimators\":[\n",
    "        100,\n",
    "        125\n",
    "\n",
    "    ],\n",
    "    \"max_depth\":[\n",
    "        3,\n",
    "        5,\n",
    "    ],\n",
    "    \"learning_rate\":[\n",
    "        0.1\n",
    "    ]\n",
    "}"
   ]
  },
  {
   "cell_type": "code",
   "execution_count": null,
   "id": "e797fe98-ad2e-44ad-90fa-4b12610bab30",
   "metadata": {},
   "outputs": [],
   "source": [
    "XGB_model = XGB_Classifier(ncpu = nucleos_cpu,\n",
    "                           cv =10, \n",
    "                           parameters = parameters,\n",
    "                           signal_dictionary = Datasets_signal,\n",
    "                           bkg_dictionary = Datasets_bkg,\n",
    "                           balance = True )"
   ]
  }
 ],
 "metadata": {
  "kernelspec": {
   "display_name": "Python 3 (ipykernel)",
   "language": "python",
   "name": "python3"
  },
  "language_info": {
   "codemirror_mode": {
    "name": "ipython",
    "version": 3
   },
   "file_extension": ".py",
   "mimetype": "text/x-python",
   "name": "python",
   "nbconvert_exporter": "python",
   "pygments_lexer": "ipython3",
   "version": "3.10.6"
  }
 },
 "nbformat": 4,
 "nbformat_minor": 5
}
