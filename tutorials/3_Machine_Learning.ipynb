{
 "cells": [
  {
   "cell_type": "markdown",
   "id": "f0abaa9a-6f92-4fa3-8269-83dbc0f4939e",
   "metadata": {},
   "source": [
    "$$\\textrm{Joaquin Peñuela Parra}$$\n",
    "$$\\textrm{University of Los Andes}$$\n",
    "$$\\textrm{High Energy Physics Group: Phenomenology of Particles}$$\n",
    "\n",
    "This code was written to be running in Docker. If you do not have a Docker inside hep-server2 please refer to: https://github.com/Phenomenology-group-uniandes/Tutoriales_Generales\n",
    "\n",
    "$\\textbf{Preliminaries}$ \n",
    "\n",
    "The libraries used here are:\n",
    "\n",
    "# Very soon..."
   ]
  },
  {
   "cell_type": "code",
   "execution_count": null,
   "id": "61155507-ce64-416a-b657-b1531199a78a",
   "metadata": {},
   "outputs": [],
   "source": []
  }
 ],
 "metadata": {
  "kernelspec": {
   "display_name": "Python 3 (ipykernel)",
   "language": "python",
   "name": "python3"
  },
  "language_info": {
   "codemirror_mode": {
    "name": "ipython",
    "version": 3
   },
   "file_extension": ".py",
   "mimetype": "text/x-python",
   "name": "python",
   "nbconvert_exporter": "python",
   "pygments_lexer": "ipython3",
   "version": "3.10.6"
  }
 },
 "nbformat": 4,
 "nbformat_minor": 5
}
