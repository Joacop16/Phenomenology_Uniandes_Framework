{
 "cells": [
  {
   "cell_type": "code",
   "execution_count": 1,
   "id": "34b9b5a9-f248-41bf-a53d-cb63cd293e8d",
   "metadata": {},
   "outputs": [
    {
     "name": "stdout",
     "output_type": "stream",
     "text": [
      "Welcome to JupyROOT 6.26/06\n"
     ]
    }
   ],
   "source": [
    "import os, sys\n",
    "\n",
    "Path_Tutorials = os.path.dirname(os.path.realpath('Pruebas_Outputs.ipynb'))\n",
    "Path_Pheno_BSM = os.path.dirname(Path_Tutorials)\n",
    "sys.path.append(Path_Pheno_BSM)\n",
    "\n",
    "from ROOT import TChain, TVector3, TVector2 \n",
    "from delphes_reader.clasificator import get_muons"
   ]
  },
  {
   "cell_type": "code",
   "execution_count": 2,
   "id": "49184eba-2a00-4a4c-8f7f-30b03c92dbb7",
   "metadata": {},
   "outputs": [],
   "source": [
    "path = '/mnt/d/Bibliotecas/Descargas/tag_1_delphes_events.root'"
   ]
  },
  {
   "cell_type": "code",
   "execution_count": 3,
   "id": "9bf11d1b-d1c4-4a47-8f14-39a762ae2d1d",
   "metadata": {},
   "outputs": [
    {
     "data": {
      "text/plain": [
       "'/mnt/d/Bibliotecas/Documentos/GitHub/Pheno_BSM'"
      ]
     },
     "execution_count": 3,
     "metadata": {},
     "output_type": "execute_result"
    }
   ],
   "source": [
    "Path_Pheno_BSM"
   ]
  },
  {
   "cell_type": "code",
   "execution_count": 6,
   "id": "147dc8fc-523a-49b1-9a02-a08a5ae918f9",
   "metadata": {},
   "outputs": [
    {
     "name": "stdout",
     "output_type": "stream",
     "text": [
      "event es de tipo:  <class cppyy.gbl.TChain at 0x7fffd072d0a0>\n",
      "GetTLV() retorna:  <class cppyy.gbl.TLorentzVector at 0x7fffd07ef9e0>\n",
      "GetName() retorna:  <class 'str'>\n",
      "GetCharge() retorna:  <class 'float'>\n",
      "P() retorna:  <class 'float'>\n",
      "Pt() retorna:  <class 'float'>\n",
      "Px() retorna:  <class 'float'>\n",
      "Phi() retorna:  <class 'float'>\n",
      "Eta() retorna:  <class 'float'>\n",
      "M() retorna:  <class 'float'>\n",
      "Energy() retorna:  <class 'float'>\n",
      "DeltaPhi() retorna:  <class 'float'>\n",
      "DeltaR() retorna:  <class 'float'>\n",
      "Mod() retorna:  <class 'float'>\n",
      "Mag() retorna:  <class 'float'>\n"
     ]
    }
   ],
   "source": [
    "tree = TChain(\"Delphes;1\") #arbol de datos, ahora debemos añadirle la ruta\n",
    "tree.Add(path) #Ahora tree es el arbol de datos de la ruta path\n",
    "\n",
    "j = 0\n",
    "for event in tree:\n",
    "    \n",
    "    muons = get_muons(event) #Lista de los muones de un evento en el arbol\n",
    "    imprimir = 0 \n",
    "    if (len(muons) < 2): continue\n",
    "    print('event es de tipo: ',type(event))\n",
    "    print('GetTLV() retorna: ',type(muons[0].GetTLV()))\n",
    "    print('GetName() retorna: ',type(muons[0].GetName()))\n",
    "    print('GetCharge() retorna: ',type(muons[0].GetCharge()))\n",
    "    \n",
    "    TLV1 = muons[0].GetTLV()\n",
    "    TLV2 = muons[1].GetTLV()\n",
    "    \n",
    "    print('P() retorna: ',type(TLV1.P()))\n",
    "    print('Pt() retorna: ',type(TLV1.Pt()))\n",
    "    print('Px() retorna: ',type(TLV1.Px()))\n",
    "    print('Phi() retorna: ',type(TLV1.Phi()))\n",
    "    print('Eta() retorna: ',type(TLV1.Eta()))\n",
    "    print('M() retorna: ',type(TLV1.M()))\n",
    "    print('Energy() retorna: ',type(TLV1.Energy()))\n",
    "    print('DeltaPhi() retorna: ',type(TLV1.DeltaPhi(TLV2)))\n",
    "    print('DeltaR() retorna: ',type(TLV1.DeltaR(TLV2)))\n",
    "    \n",
    "    a=TVector2(TLV1.Px(), TLV1.Py())\n",
    "    b=TVector2(TLV2.Px(), TLV2.Py())\n",
    "    c=a-b    \n",
    "    \n",
    "    print('Mod() retorna: ',type(c.Mod()))\n",
    "    \n",
    "    a=TVector3(TLV1.Px(), TLV1.Py(), TLV1.Pz())\n",
    "    b=TVector3(TLV2.Px(), TLV2.Py(), TLV2.Pz())\n",
    "    c=a-b\n",
    "    \n",
    "    print('Mag() retorna: ',type(c.Mag()))\n",
    "    \n",
    "    imprimir = 1\n",
    "    if imprimir != 0: break"
   ]
  },
  {
   "cell_type": "code",
   "execution_count": null,
   "id": "df670666-ba42-4e9c-92e7-2c06e8166d4c",
   "metadata": {},
   "outputs": [],
   "source": []
  }
 ],
 "metadata": {
  "kernelspec": {
   "display_name": "Python 3 (ipykernel)",
   "language": "python",
   "name": "python3"
  },
  "language_info": {
   "codemirror_mode": {
    "name": "ipython",
    "version": 3
   },
   "file_extension": ".py",
   "mimetype": "text/x-python",
   "name": "python",
   "nbconvert_exporter": "python",
   "pygments_lexer": "ipython3",
   "version": "3.10.6"
  }
 },
 "nbformat": 4,
 "nbformat_minor": 5
}
