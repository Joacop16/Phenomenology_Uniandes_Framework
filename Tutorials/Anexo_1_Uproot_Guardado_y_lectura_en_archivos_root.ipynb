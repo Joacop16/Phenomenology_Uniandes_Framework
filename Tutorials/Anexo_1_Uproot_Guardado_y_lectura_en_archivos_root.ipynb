{
 "cells": [
  {
   "cell_type": "markdown",
   "id": "ccd10aef-0898-4d73-b520-ba067440a4e0",
   "metadata": {},
   "source": [
    "$$\\textrm{Joaquin Peñuela Parra}$$\n",
    "$$\\textrm{Universidad de los Andes}$$\n",
    "$$\\textrm{Grupo de Física de Altas Energías: Fenomenología de Partículas}$$\n",
    "\n",
    "$\\textbf{Preliminares}$ \n",
    "\n",
    "Las librerías que se usan aquí son las siguientes: "
   ]
  },
  {
   "cell_type": "code",
   "execution_count": 1,
   "id": "8b0098db-c828-455c-a071-4066fc1e28bc",
   "metadata": {},
   "outputs": [
    {
     "name": "stdout",
     "output_type": "stream",
     "text": [
      "Welcome to JupyROOT 6.22/06\n"
     ]
    }
   ],
   "source": [
    "import uproot\n",
    "import ROOT\n",
    "import matplotlib.pyplot as plt\n",
    "import numpy as np"
   ]
  },
  {
   "cell_type": "markdown",
   "id": "23dc6022-6b4c-482a-a254-36b35afacd79",
   "metadata": {},
   "source": [
    "Para ver como se pueden guardar y leer archivos.root usando uproot creemos un histograma de una distribución gaussiana, esto se puede hacer de dos formas, usando numpy y usando ROOT"
   ]
  },
  {
   "cell_type": "code",
   "execution_count": 2,
   "id": "0961d434-b740-4dad-bd52-7727d2211253",
   "metadata": {},
   "outputs": [],
   "source": [
    "Gaussian = np.random.normal(90, 20, 100000)"
   ]
  },
  {
   "cell_type": "markdown",
   "id": "5cd46a48-61df-41e5-89d9-2b4089e27042",
   "metadata": {},
   "source": [
    "Grafiquemoslo usando matplotlib:"
   ]
  },
  {
   "cell_type": "code",
   "execution_count": 3,
   "id": "16d9f9e9-e35f-4465-95af-eaf1e10f5b65",
   "metadata": {},
   "outputs": [
    {
     "data": {
      "image/png": "[encoded data removed]",
      "text/plain": [
       "<Figure size 400x300 with 1 Axes>"
      ]
     },
     "metadata": {},
     "output_type": "display_data"
    }
   ],
   "source": [
    "fig = plt.figure(figsize = (4,3))\n",
    "plt.hist(Gaussian, bins = 200)\n",
    "plt.show()"
   ]
  },
  {
   "cell_type": "markdown",
   "id": "659c986a-5684-4e0c-a611-dce6efb6fdf6",
   "metadata": {},
   "source": [
    "Ahora creemos un TH1F con ROOT y grafiquemoslo:"
   ]
  },
  {
   "cell_type": "code",
   "execution_count": 4,
   "id": "4131e917-1ef7-477f-8ba1-c710517ac5f2",
   "metadata": {},
   "outputs": [
    {
     "data": {
      "image/png": "[encoded data removed]",
      "text/plain": [
       "<IPython.core.display.Image object>"
      ]
     },
     "metadata": {},
     "output_type": "display_data"
    }
   ],
   "source": [
    "Histograma = ROOT.TH1F(\"Hist\",\"Distribucion Gaussiana\", 200,0,200)\n",
    "Histograma.SetDirectory(0)\n",
    "\n",
    "\n",
    "for value in Gaussian: Histograma.Fill(value)\n",
    "\n",
    "canvas = ROOT.TCanvas(\"Canvas\", \" \", 600, 400)\n",
    "Histograma.Draw('hist')\n",
    "canvas.Draw()"
   ]
  },
  {
   "cell_type": "markdown",
   "id": "4edad8ad-03e9-418e-b437-15ab7ff09b77",
   "metadata": {},
   "source": [
    "Hecho esto, ahora podemos evidenciar una gran utilidad de usar uproot para guardar histogramas en archivos.root\n",
    "\n",
    "Uproot permite guardar histogramas creados tanto por numpy como por ROOT, en general la sintaxis para crear un archivo.root y guardar algo es la siguiente:"
   ]
  },
  {
   "cell_type": "code",
   "execution_count": 5,
   "id": "80956398-2853-4978-981c-1608890f113b",
   "metadata": {},
   "outputs": [],
   "source": [
    "file = uproot.recreate('Gaussian.root') #Se crea el archivo.root, si se quisiera actualizar en lugar de crearlo desde 0 se usa uproot.update\n",
    " \n",
    "file[\"ROOT/hist\"] = Histograma #el / es para guardar en subdirectorios dentro del archivo.root\n",
    "file[\"Numpy/hist\"] = np.histogram(Gaussian, bins= 200)\n",
    "\n",
    "file.close() #Se cierra el archivo.root"
   ]
  },
  {
   "cell_type": "markdown",
   "id": "dbdbed77-b12e-4de8-aeb0-861d68d7bd2c",
   "metadata": {},
   "source": [
    "Esto nos motiva a crear la siguiente función:"
   ]
  },
  {
   "cell_type": "code",
   "execution_count": 6,
   "id": "88f19c23-6156-4802-9abe-d05a37f7d297",
   "metadata": {},
   "outputs": [],
   "source": [
    "def guardar_uproot(nombre_archivo, ruta, histograma, actualizar = False):\n",
    "    #Esta función permite guardar un histograma ya sea creado por ROOT o por Numpy, en un archivo.root\n",
    "    \n",
    "    #nombre_archivo: nombre del archivo.root\n",
    "    #ruta: ruta que tendrá el histograma dentro del archivo.root, si se quieren tener subdirectorios se usa \"/\"\n",
    "    #histograma: histograma que se va a guardar en el archivo.root\n",
    "    #actualizar: Boolean que permite saber si se necesita actualizar el archivo.root o en su defecto crearlo desde 0\n",
    "    \n",
    "    if actualizar: file = uproot.update(nombre_archivo) #Así no se borra todo lo que ya está en el .root\n",
    "    else: file = uproot.recreate(nombre_archivo) \n",
    "    \n",
    "    file[ruta] = histograma\n",
    "    file.close() \n",
    "    \n",
    "    print(f\"El histograma ha sido guardado en {nombre_archivo}\")"
   ]
  },
  {
   "cell_type": "markdown",
   "id": "c2aa0f5f-7367-43d3-899f-c940d652270d",
   "metadata": {},
   "source": [
    "Así, guardar los histogramas se reduce a usar la función:"
   ]
  },
  {
   "cell_type": "code",
   "execution_count": 7,
   "id": "b245e1bf-c47b-4ef1-8282-98395b3c7171",
   "metadata": {},
   "outputs": [
    {
     "name": "stdout",
     "output_type": "stream",
     "text": [
      "El histograma ha sido guardado en Gaussian.root\n",
      "El histograma ha sido guardado en Gaussian.root\n"
     ]
    }
   ],
   "source": [
    "guardar_uproot('Gaussian.root', \"ROOT/hist\", Histograma)\n",
    "guardar_uproot('Gaussian.root', \"Numpy/hist\", Histograma, actualizar = True)"
   ]
  },
  {
   "cell_type": "markdown",
   "id": "e7a77271-f1a1-400e-9c66-327c216e8b9c",
   "metadata": {},
   "source": [
    "Es claro que en este caso da igual escribir el código o usar la función; sin embargo, si se tuviera una gran cantidad de histogramas, tener una función de este estilo puede resultar muy útil."
   ]
  },
  {
   "cell_type": "markdown",
   "id": "edcbf806-0886-4795-81cc-cd48bde7e32a",
   "metadata": {},
   "source": [
    "Ahora leamos el archivo:"
   ]
  },
  {
   "cell_type": "code",
   "execution_count": 8,
   "id": "1e7b9165-0c68-42ba-b32c-7e85cef8c115",
   "metadata": {},
   "outputs": [],
   "source": [
    "file = uproot.open('Gaussian.root')"
   ]
  },
  {
   "cell_type": "markdown",
   "id": "737bab83-cbf5-4ca3-bd9d-93c20dac1a59",
   "metadata": {},
   "source": [
    "Luego, para extraer los objetos (en este caso histogramas) que contiene hay que hacer uso de sus keys (similar a como se trabaja usando diccionarios):"
   ]
  },
  {
   "cell_type": "code",
   "execution_count": 9,
   "id": "70a85495-430a-46b8-884f-1db9f20e9892",
   "metadata": {},
   "outputs": [
    {
     "data": {
      "text/plain": [
       "['ROOT;1', 'ROOT/hist;1', 'Numpy;1', 'Numpy/hist;1']"
      ]
     },
     "execution_count": 9,
     "metadata": {},
     "output_type": "execute_result"
    }
   ],
   "source": [
    "file.keys()"
   ]
  },
  {
   "cell_type": "markdown",
   "id": "379f49e9-5084-4271-9253-699e97d5ca7e",
   "metadata": {},
   "source": [
    "Así,"
   ]
  },
  {
   "cell_type": "code",
   "execution_count": 10,
   "id": "33b990e5-21ae-4db3-ab01-cbb5f32b34d3",
   "metadata": {},
   "outputs": [],
   "source": [
    "Histograma_Numpy = file['Numpy/hist']\n",
    "Histograma_ROOT = file['ROOT/hist']"
   ]
  },
  {
   "cell_type": "markdown",
   "id": "ae1bc26d-0b63-4ff5-9adf-5b68938ba814",
   "metadata": {},
   "source": [
    "Veamos que efectivamente corresponden a lo que uno esperaría:"
   ]
  },
  {
   "cell_type": "code",
   "execution_count": 11,
   "id": "0f76a96d-9f96-4bec-a18f-1fcc63871fd4",
   "metadata": {},
   "outputs": [
    {
     "name": "stdout",
     "output_type": "stream",
     "text": [
      "<TH1F (version 3) at 0x7f2cc86d3d90> <TH1F (version 3) at 0x7f2c6556db80>\n"
     ]
    }
   ],
   "source": [
    "print(Histograma_Numpy, Histograma_ROOT)"
   ]
  },
  {
   "cell_type": "markdown",
   "id": "b1750fc7-07c4-4256-9d4e-9eeb6cbc83c0",
   "metadata": {},
   "source": [
    "Ahora, para graficarlos cree la siguiente función:"
   ]
  },
  {
   "cell_type": "code",
   "execution_count": 12,
   "id": "d99a538b-59d3-4381-aac8-c6cebd57629c",
   "metadata": {},
   "outputs": [],
   "source": [
    "def graficar(Histograma, c = \"orange\", nbins = 200):\n",
    "    #Esta función permite graficar un histograma extraído del archivo.root\n",
    "    \n",
    "    #Histograma: Histograma que se quiere graficar, por ejemplo file['Matplotlib/hist']\n",
    "    #c (parametro opcional): Color\n",
    "    #nbins (parametro opcional): Número de Bins\n",
    "    \n",
    "    pesos = Histograma.to_numpy()[0] #Extrae los pesos asociados a cada bin del histograma\n",
    "    valores = Histograma.to_numpy()[1] #Extrae los extremos de todos los bines, por lo que para graficar el histograma, debemos promediar cada pareja, así tendremos el centro de cada bin al que podremos asociarle el peso\n",
    "\n",
    "    #Hagamos eso, creemos un arreglo para guardar esos promedios (centros de cada bin)\n",
    "    promedios = []\n",
    "    for i in range(len(valores) - 1 ):\n",
    "        promedio = (valores[i] + valores[i+1])/2\n",
    "        promedios.append(promedio)\n",
    "    \n",
    "    #Finalmente, es posible graficar usando matplotlib:    \n",
    "    fig = plt.figure(figsize = (4,3))\n",
    "    plt.hist(promedios, weights=pesos, bins = nbins, color = c)\n",
    "    plt.show()"
   ]
  },
  {
   "cell_type": "code",
   "execution_count": 13,
   "id": "12a0322a-1081-4dcd-8874-dbae91fba2be",
   "metadata": {},
   "outputs": [
    {
     "data": {
      "image/png": "[encoded data removed]",
      "text/plain": [
       "<Figure size 400x300 with 1 Axes>"
      ]
     },
     "metadata": {},
     "output_type": "display_data"
    }
   ],
   "source": [
    "graficar(Histograma_Numpy, c = \"green\")"
   ]
  },
  {
   "cell_type": "code",
   "execution_count": 14,
   "id": "7a788c0f-acea-4505-94ab-2e15a51dd193",
   "metadata": {},
   "outputs": [
    {
     "data": {
      "image/png": "[encoded data removed]",
      "text/plain": [
       "<Figure size 400x300 with 1 Axes>"
      ]
     },
     "metadata": {},
     "output_type": "display_data"
    }
   ],
   "source": [
    "graficar(Histograma_ROOT, c = \"blue\")"
   ]
  },
  {
   "cell_type": "markdown",
   "id": "755bb7ab-0f97-4081-94ae-40a68c94f7d9",
   "metadata": {},
   "source": [
    "Como se esperaría, ambos histogramas lucen iguales.\n",
    "\n",
    "Este razonamiento para guardar y leer archivos .root se puede generalizar y complicar tanto como se requiera, pero el principio es exactamente el mismo.\n",
    "\n",
    "**Referencias:**\n",
    "\n",
    "- https://masonproffitt.github.io/uproot-tutorial/index.html\n",
    "- https://uproot.readthedocs.io/en/latest/basic.html\n"
   ]
  }
 ],
 "metadata": {
  "kernelspec": {
   "display_name": "Python 3 (ipykernel)",
   "language": "python",
   "name": "python3"
  },
  "language_info": {
   "codemirror_mode": {
    "name": "ipython",
    "version": 3
   },
   "file_extension": ".py",
   "mimetype": "text/x-python",
   "name": "python",
   "nbconvert_exporter": "python",
   "pygments_lexer": "ipython3",
   "version": "3.10.6"
  }
 },
 "nbformat": 4,
 "nbformat_minor": 5
}
